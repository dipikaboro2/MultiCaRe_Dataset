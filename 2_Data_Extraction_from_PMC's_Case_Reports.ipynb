{
  "cells": [
    {
      "cell_type": "markdown",
      "metadata": {
        "id": "view-in-github",
        "colab_type": "text"
      },
      "source": [
        "<a href=\"https://colab.research.google.com/github/mauro-nievoff/MultiCaRe_Dataset/blob/main/2_Data_Extraction_from_PMC's_Case_Reports.ipynb\" target=\"_parent\"><img src=\"https://colab.research.google.com/assets/colab-badge.svg\" alt=\"Open In Colab\"/></a>"
      ]
    },
    {
      "cell_type": "markdown",
      "metadata": {
        "id": "JrbXhQBvXe6Y"
      },
      "source": [
        "# Data Extraction from PMC's Case Reports"
      ]
    },
    {
      "cell_type": "markdown",
      "source": [
        "In this notebook, we will discuss data extraction from a given case report article using BioC API from PMC. In particular, we will cover how to:\n",
        "1. Retrieve the Article Metadata\n",
        "2. Extract Clinical Cases from the Article Content\n",
        "3. Get Demographic Information from Cases\n",
        "4. Rearrange the Data to get the Final Outcome"
      ],
      "metadata": {
        "id": "4waj2Az5yHlf"
      }
    },
    {
      "cell_type": "markdown",
      "source": [
        "## 1. Article Metadata"
      ],
      "metadata": {
        "id": "hvC_ddm3X5tC"
      }
    },
    {
      "cell_type": "markdown",
      "source": [
        "### Getting all ID Types for a given PMID"
      ],
      "metadata": {
        "id": "Pf8FyqScJ3gK"
      }
    },
    {
      "cell_type": "markdown",
      "source": [
        "`get_id_mapping()` gets the PMCID and other relevant IDs corresponding to a given PMID by using Biopython.\n",
        "\n",
        "It was decided to get PMIDs and then map them to the corresponding PMCIDs instead of searching for the PMCIDs using PMC's API because the search engine from PubMed is more suitable for the task than the one from PMC."
      ],
      "metadata": {
        "id": "2qIeLVoeGIrx"
      }
    },
    {
      "cell_type": "code",
      "source": [
        "%%capture\n",
        "!pip install Bio"
      ],
      "metadata": {
        "id": "CD6P2S7JYhrB"
      },
      "execution_count": null,
      "outputs": []
    },
    {
      "cell_type": "code",
      "source": [
        "from Bio import Entrez"
      ],
      "metadata": {
        "id": "8FDnlsX7Yjpw"
      },
      "execution_count": null,
      "outputs": []
    },
    {
      "cell_type": "code",
      "source": [
        "Entrez.email = \"your@email.com\"\n",
        "Entrez.api_key = \"your_api_key\""
      ],
      "metadata": {
        "id": "lilgdtYWYlPA"
      },
      "execution_count": null,
      "outputs": []
    },
    {
      "cell_type": "code",
      "source": [
        "def get_id_mapping(pmid):\n",
        "  try:\n",
        "    pmid_handle = Entrez.efetch(db=\"pubmed\", id=pmid, rettype=\"xml\")\n",
        "    pmid_record = Entrez.read(pmid_handle)\n",
        "    mapping = {e.attributes['IdType'].replace('pubmed', 'pmid').replace('pmc', 'pmcid'): str(e) for e in pmid_record['PubmedArticle'][0]['PubmedData']['ArticleIdList']}\n",
        "    return mapping\n",
        "  except:\n",
        "    return {\"pmid\": pmid, \"comment\": 'Mapping error.'}"
      ],
      "metadata": {
        "id": "HjH3XLBRX6EQ"
      },
      "execution_count": null,
      "outputs": []
    },
    {
      "cell_type": "markdown",
      "source": [
        "The following article will be used for all the examples from this notebook: https://www.ncbi.nlm.nih.gov/pmc/articles/PMC6744365/."
      ],
      "metadata": {
        "id": "wKeybf7Q0zdx"
      }
    },
    {
      "cell_type": "code",
      "source": [
        "pmid = '31534908'\n",
        "id_dict = get_id_mapping(pmid)\n",
        "id_dict"
      ],
      "metadata": {
        "colab": {
          "base_uri": "https://localhost:8080/"
        },
        "id": "2arHtzrhXF50",
        "outputId": "118cb645-dca9-4223-f590-e7d55fb9e06d"
      },
      "execution_count": null,
      "outputs": [
        {
          "output_type": "execute_result",
          "data": {
            "text/plain": [
              "{'pmid': '31534908',\n",
              " 'pmcid': 'PMC6744365',\n",
              " 'doi': '10.1016/j.idcr.2019.e00633',\n",
              " 'pii': 'S2214-2509(19)30123-4'}"
            ]
          },
          "metadata": {},
          "execution_count": 5
        }
      ]
    },
    {
      "cell_type": "markdown",
      "source": [
        "### Getting Article Metadata"
      ],
      "metadata": {
        "id": "3Sm_4Ln7ZI-T"
      }
    },
    {
      "cell_type": "markdown",
      "source": [
        "`get_article_metadata()` retrieves the metadata corresponding to a given PMCID, including all the data points for citation, Mesh terms and keywords."
      ],
      "metadata": {
        "id": "Fj-9mFumJYLw"
      }
    },
    {
      "cell_type": "code",
      "source": [
        "from bs4 import BeautifulSoup\n",
        "import requests"
      ],
      "metadata": {
        "id": "MnjBaVplzpib"
      },
      "execution_count": null,
      "outputs": []
    },
    {
      "cell_type": "code",
      "source": [
        "def get_article_metadata(id_dict):\n",
        "\n",
        "  # Creating article_soup using requests and BeautifulSoup.\n",
        "  article = id_dict['pmcid']\n",
        "  url = f\"https://pubmed.ncbi.nlm.nih.gov/?term={article}&format=abstract&size=10\"\n",
        "  response = requests.get(url)\n",
        "  article_soup = BeautifulSoup(response.content, 'html.parser')\n",
        "\n",
        "  # The metadata is retrieved from the id_dict and the article_soup.\n",
        "  article_dict = {}\n",
        "  article_dict['doi'] = id_dict.get('doi')\n",
        "  article_dict['pmid'] = id_dict.get('pmid')\n",
        "  article_dict['pmcid'] = id_dict.get('pmcid')\n",
        "  article_dict['title'] = article_soup.find(\"h1\", class_=\"heading-title\").text.replace('\\n', '').strip()\n",
        "  article_dict['journal'] = article_soup.find(\"div\", class_=\"journal-actions dropdown-block\").text.split(\"\\n\")[1].strip()\n",
        "  article_dict['journal_detail'] = article_soup.find(\"span\", class_=\"cit\").text\n",
        "  article_dict['year'] = article_dict['journal_detail'][:4]\n",
        "  article_dict['link'] = article_soup.find('meta', {'name': 'citation_abstract_html_url'})['content']\n",
        "\n",
        "  # Getting the list of authors.\n",
        "  article_dict['authors'] = []\n",
        "  divs = article_soup.find_all('div', {'class': 'authors-list'})\n",
        "  for div in divs:\n",
        "    name_list = div.find_all('a', {'class': 'full-name'})\n",
        "    for name in name_list:\n",
        "      if name.text not in article_dict['authors']:\n",
        "        article_dict['authors'].append(name.text)\n",
        "\n",
        "  # Getting Mesh terms and keywords.\n",
        "  article_dict['major_mesh_terms'] = [term.text.replace('\\n', '').strip().replace('*', '') for term in article_soup.find_all('button', class_='keyword-actions-trigger trigger keyword-link major')]\n",
        "  article_dict['minor_mesh_terms'] = [term.text.replace('\\n', '').strip() for term in article_soup.find_all('button', class_='keyword-actions-trigger trigger keyword-link')]\n",
        "  article_dict['mesh_terms'] = article_dict['major_mesh_terms'] + article_dict['minor_mesh_terms']\n",
        "\n",
        "  try:\n",
        "    tags = article_soup.find_all('p')\n",
        "    keywords = None\n",
        "    for tag in tags:\n",
        "      strong_tag = tag.find('strong', {'class': 'sub-title'})\n",
        "      if strong_tag and strong_tag.text.strip() == 'Keywords:':\n",
        "        article_dict['keywords'] = [kw.strip().lower() for kw in tag.text.split(':')[1].replace('\\n', '').replace('.', '').split(';')]\n",
        "  except:\n",
        "    article_dict['keywords'] = None\n",
        "\n",
        "  return article_dict"
      ],
      "metadata": {
        "id": "PdFQv9ilZO7s"
      },
      "execution_count": null,
      "outputs": []
    },
    {
      "cell_type": "code",
      "source": [
        "article_metadata = get_article_metadata(id_dict)"
      ],
      "metadata": {
        "id": "xzVpkJurZOzr"
      },
      "execution_count": null,
      "outputs": []
    },
    {
      "cell_type": "markdown",
      "source": [
        "Example of article metadata:"
      ],
      "metadata": {
        "id": "pwcnQ4HTL-j7"
      }
    },
    {
      "cell_type": "code",
      "source": [
        "article_metadata"
      ],
      "metadata": {
        "colab": {
          "base_uri": "https://localhost:8080/"
        },
        "id": "FHF1rq944Phy",
        "outputId": "ddd88d0a-a1f1-4a9f-8271-186eb69d4269"
      },
      "execution_count": null,
      "outputs": [
        {
          "output_type": "execute_result",
          "data": {
            "text/plain": [
              "{'doi': '10.1016/j.idcr.2019.e00633',\n",
              " 'pmid': '31534908',\n",
              " 'pmcid': 'PMC6744365',\n",
              " 'title': 'Ceftriaxone use in brucellosis: A case series',\n",
              " 'journal': 'IDCases',\n",
              " 'journal_detail': '2019 Sep 5:18:e00633.',\n",
              " 'year': '2019',\n",
              " 'link': 'https://pubmed.ncbi.nlm.nih.gov/31534908/',\n",
              " 'authors': ['Daniah F Fatani',\n",
              "  'Walaa A Alsanoosi',\n",
              "  'Mazen A Badawi',\n",
              "  'Abrar K Thabit'],\n",
              " 'major_mesh_terms': [],\n",
              " 'minor_mesh_terms': ['Case Reports'],\n",
              " 'mesh_terms': ['Case Reports'],\n",
              " 'keywords': ['brucella',\n",
              "  'brucellosis',\n",
              "  'cases',\n",
              "  'ceftriaxone',\n",
              "  'saudi arabia',\n",
              "  'zoonotic infection']}"
            ]
          },
          "metadata": {},
          "execution_count": 9
        }
      ]
    },
    {
      "cell_type": "markdown",
      "source": [
        "## 2. Clinical Cases"
      ],
      "metadata": {
        "id": "npQ86UURKAXz"
      }
    },
    {
      "cell_type": "markdown",
      "source": [
        "### Useful Functions for Case Retrieval"
      ],
      "metadata": {
        "id": "j73O3fTTZOVV"
      }
    },
    {
      "cell_type": "markdown",
      "source": [
        "`merge_paragraphs()` is a function used to merge paragraphs from the article content when they refer to the same case. To do so, all consecutive paragraphs are considered to belong to the same case until a certain age or gender is mentioned, because those mentions are usually included right at the beginning of the cases."
      ],
      "metadata": {
        "id": "pfYxwavu0m2Y"
      }
    },
    {
      "cell_type": "code",
      "source": [
        "import re"
      ],
      "metadata": {
        "id": "vQs7JFWM1Jbr"
      },
      "execution_count": null,
      "outputs": []
    },
    {
      "cell_type": "code",
      "source": [
        "def merge_paragraphs(paragraph_list):\n",
        "\n",
        "  cases = []\n",
        "  new_case = []\n",
        "  age_pattern = r'[\\s-](year|yr|month|day)s?(\\s?-+|-?\\s+)old'\n",
        "  gender_pattern = r' (man|woman|male|female|gentleman|lady|boy|girl|child|baby|patient)( |,)'\n",
        "\n",
        "  ## Defining split pattern to use (if age is mentioned in text, gender pattern should be ignored).\n",
        "\n",
        "  n = 0\n",
        "  for paragraph in paragraph_list:\n",
        "    age_mention = re.search(age_pattern, paragraph.lower())\n",
        "    if (age_mention is not None):\n",
        "      n += 1\n",
        "\n",
        "  if n > 0:\n",
        "    split_pattern = age_pattern\n",
        "  else:\n",
        "    split_pattern = gender_pattern\n",
        "\n",
        "  for idx, paragraph in enumerate(paragraph_list):\n",
        "    relevant_mention = re.search(split_pattern, paragraph.lower())\n",
        "    if (new_case != []) and (relevant_mention is not None):\n",
        "      cases.append('\\n'.join(new_case))\n",
        "      new_case = [paragraph]\n",
        "    elif (new_case == []) and (relevant_mention is not None):\n",
        "      new_case.append(paragraph)\n",
        "    elif (new_case != []) and (relevant_mention is None):\n",
        "      new_case.append(paragraph)\n",
        "    if (idx == len(paragraph_list) -1) and new_case:\n",
        "      cases.append('\\n'.join(new_case))\n",
        "  return cases"
      ],
      "metadata": {
        "id": "2hskQNoZ0Y1F"
      },
      "execution_count": null,
      "outputs": []
    },
    {
      "cell_type": "markdown",
      "source": [
        "`get_cases()` is a function used to get the cases from the article content. Such case texts can be included in specific 'CASE' sections (option 1), in other sections with 'case' in the header (option 2), or in other paragraphs which include age mentions (option 3)."
      ],
      "metadata": {
        "id": "o6n05Fl21m_7"
      }
    },
    {
      "cell_type": "code",
      "source": [
        "def get_cases(soup):\n",
        "\n",
        "  ### Option 1: Articles with specific section type ('CASE'):\n",
        "\n",
        "  paragraphs = [case_section.parent.find('text').text for case_section in soup.find_all('infon', {'key': 'section_type'}, string = 'CASE') if (case_section.find('infon', {'key': 'type'}, string = 'paragraph')) or (case_section.parent.find('infon', {'key': 'type'}, string = 'paragraph'))]\n",
        "  if paragraphs:\n",
        "    return merge_paragraphs(paragraphs)\n",
        "  elif paragraphs == []:\n",
        "\n",
        "    ### Option 2: Articles with titles or subtitles including the word 'case':\n",
        "    case_titles = [case_section for case_section in soup.find_all('infon', {'key': 'type'}, string = re.compile(r'(?i)title')) if case_section.parent.find('text', string = re.compile(r'(?i)case'))]\n",
        "    cases = []\n",
        "    if case_titles:\n",
        "      for title in case_titles:\n",
        "        title_case = []\n",
        "        next_sibling = title.parent\n",
        "        while True:\n",
        "          next_sibling = next_sibling.find_next_sibling(\"passage\")\n",
        "          paragraphs = next_sibling.find_all(\"infon\", {'key': 'type'}, string = 'paragraph')\n",
        "          title = next_sibling.find_all('infon', {'key': 'type'}, string = re.compile(r'(?i)title'))\n",
        "          if paragraphs:\n",
        "            title_case.append('\\n'.join([p.parent.find('text').text for p in paragraphs]))\n",
        "          elif title:\n",
        "            cases.append('\\n'.join(title_case))\n",
        "            title_case = []\n",
        "            break\n",
        "      if title_case:\n",
        "        cases.append('\\n'.join(title_case))\n",
        "      if cases == ['']:\n",
        "        cases = []\n",
        "\n",
        "    if cases:\n",
        "      return cases\n",
        "    else:\n",
        "\n",
        "      ### Option 3: Articles with paragraphs that mention ages.\n",
        "      age_pattern = r'[\\s-](year|yr|month|day)s?[\\s-]old'\n",
        "      sections = [s.parent.find('infon', {'key': 'section_type'}).text for s in soup.find_all('infon', {'key': 'type'}, string = 'paragraph') if s.parent.find('text', string = re.compile(age_pattern))]\n",
        "      try:\n",
        "        case_section = [s for s in sections if s.lower() != 'abstract'][0]\n",
        "        paragraphs = [s.parent.find('text').text for s in soup.find_all('infon', {'key': 'type'}, string = 'paragraph') if s.parent.find('infon', {'key': 'section_type'}, string = case_section)]\n",
        "        return merge_paragraphs(paragraphs)\n",
        "      except:\n",
        "        return []"
      ],
      "metadata": {
        "id": "68LJ8GxZ0YxH"
      },
      "execution_count": null,
      "outputs": []
    },
    {
      "cell_type": "markdown",
      "source": [
        "`merge_captions()` is a function used to merge caption dicts that refer to the same image."
      ],
      "metadata": {
        "id": "1E9BlaVS1-eG"
      }
    },
    {
      "cell_type": "code",
      "source": [
        "def merge_captions(caption_dicts):\n",
        "  file_list = []\n",
        "  for dct in caption_dicts:\n",
        "    if dct['file'] not in file_list:\n",
        "      file_list.append(dct['file'])\n",
        "\n",
        "  new_dct_list = []\n",
        "  for file_ in file_list:\n",
        "    new_dict = {'tag': [t['tag'] for t in caption_dicts if t['file'] == file_][0],\n",
        "                'caption': '. '.join([t['caption'] for t in caption_dicts if t['file'] == file_]).strip(),\n",
        "                'file': file_,\n",
        "                'caption_order': [t['caption_order'] for t in caption_dicts if t['file'] == file_][0]}\n",
        "    new_dct_list.append(new_dict)\n",
        "\n",
        "  ### Fixing caption_order after merging captions:\n",
        "\n",
        "  order_numbers = []\n",
        "  for dct in new_dct_list:\n",
        "    order_numbers.append(dct['caption_order'])\n",
        "\n",
        "  order_numbers.sort()\n",
        "\n",
        "  for dct in new_dct_list:\n",
        "    dct['caption_order'] = order_numbers.index(dct['caption_order'])+1\n",
        "\n",
        "  return new_dct_list"
      ],
      "metadata": {
        "id": "EDmtI7Cl19Rs"
      },
      "execution_count": null,
      "outputs": []
    },
    {
      "cell_type": "markdown",
      "source": [
        "`explode_list()` is a function used to flatten lists of cases."
      ],
      "metadata": {
        "id": "aZpZxW8h2Ooe"
      }
    },
    {
      "cell_type": "code",
      "source": [
        "def explode_list(lst):\n",
        "  new_list = []\n",
        "  for element in lst:\n",
        "    if type(element) != list:\n",
        "      new_list.append(element)\n",
        "    else:\n",
        "      for e in element:\n",
        "        new_list.append(e)\n",
        "  return new_list"
      ],
      "metadata": {
        "id": "PiObIQc219Ie"
      },
      "execution_count": null,
      "outputs": []
    },
    {
      "cell_type": "markdown",
      "source": [
        "### Case Retrieval"
      ],
      "metadata": {
        "id": "A9rrA8aC018c"
      }
    },
    {
      "cell_type": "markdown",
      "source": [
        "`get_case_report()` is a function that gets the relevant text from the content of a given article. Apart from the clinical cases, this function returns the amount of cases, any image caption present in the article, article license information and keywords."
      ],
      "metadata": {
        "id": "7KThuHhOKt9V"
      }
    },
    {
      "cell_type": "code",
      "source": [
        "def get_case_report(article_id):\n",
        "\n",
        "  url = f\"https://www.ncbi.nlm.nih.gov/research/bionlp/RESTful/pmcoa.cgi/BioC_xml/{article_id}/ascii\"\n",
        "  r = requests.get(url)\n",
        "  if str(r) != '<Response [200]>':\n",
        "    pass\n",
        "  else:\n",
        "    soup = BeautifulSoup(r.content, 'xml')\n",
        "    article_dict = {}\n",
        "    article_dict['pmcid'] = 'PMC' + soup.find('id').text\n",
        "    article_dict['title'] = soup.find('infon', {'key': 'section_type'}, string = 'TITLE').parent.find('text').text\n",
        "\n",
        "    # Getting the clinical cases.\n",
        "    article_dict['cases'] = get_cases(soup)\n",
        "    article_dict['cases'] = explode_list(article_dict['cases'])\n",
        "    article_dict['cases'] = merge_paragraphs(article_dict['cases'])\n",
        "    article_dict['case_amount'] = len(article_dict['cases'])\n",
        "\n",
        "    # Getting caption data, including the actual caption, the name of the file and the tag given in the article for that image.\n",
        "    article_dict['caption_dicts'] = [{'tag': caption_soup.parent.find('infon', {'key':'id'}).text,\n",
        "                                      'caption': caption_soup.parent.find('text').text,\n",
        "                                      'file': caption_soup.parent.find('infon', {'key': 'file'}).text,\n",
        "                                      'caption_order': i+1} for i, caption_soup in enumerate(soup.find_all('infon', {'key': 'type'}, string = re.compile(r'fig_')))]\n",
        "    article_dict['caption_dicts'] = merge_captions(article_dict['caption_dicts'])\n",
        "\n",
        "    # Getting the article license and keywords if present.\n",
        "    article_dict['license'] = soup.find('infon', {'key': 'license'}).text\n",
        "    try:\n",
        "      article_dict['keywords'] = soup.find('infon', {'key': 'kwd'}).text.split(', ')\n",
        "    except:\n",
        "      article_dict['keywords'] = None\n",
        "    return article_dict"
      ],
      "metadata": {
        "id": "6rv7eBavZYPK"
      },
      "execution_count": null,
      "outputs": []
    },
    {
      "cell_type": "code",
      "source": [
        "article_cases = get_case_report(id_dict['pmcid'])"
      ],
      "metadata": {
        "id": "6kB2x5jLZYeR"
      },
      "execution_count": null,
      "outputs": []
    },
    {
      "cell_type": "markdown",
      "source": [
        "Example of clinical case:"
      ],
      "metadata": {
        "id": "-Alsxt1KMHZE"
      }
    },
    {
      "cell_type": "code",
      "source": [
        "article_cases['cases'][0]"
      ],
      "metadata": {
        "colab": {
          "base_uri": "https://localhost:8080/",
          "height": 126
        },
        "id": "aO0HtVV_4UPw",
        "outputId": "f6013c9b-1286-4828-b7ba-ceb8602f5fae"
      },
      "execution_count": null,
      "outputs": [
        {
          "output_type": "execute_result",
          "data": {
            "text/plain": [
              "\"A 25-year-old man, previously healthy, was initially admitted due to slowly progressive headache with blurry vision and fever for nine months. The patient recalls ingesting raw camel milk, which is a major risk factor for brucellosis. There was no previous contact with a tuberculosis case. The headache worsened one week before his admission and the patient lost vision in the left eye. His vital signs and cognitive function were normal. Pupils were reactive, but the patient was barely seeing the flash light with his left eye. Ophthalmologic examination revealed an atrophic optic disc mainly with decreased visual acuity bilaterally. Extraocular muscles were intact. The remaining neurological examination was unremarkable.\\nHis diagnostic work up showed total white blood cell (WBC) count of 5.61 x 109 cells/mm3 and a C-reactive protein (CRP) level of 3.76 mg/L. His cerebrospinal fluid (CSF) acid fast bacilli (AFB) stain and Mycobacterium tuberculosis polymerase chain reaction (MTB-PCR) were both negative. Blood and CSF cultures were positive for Brucella spp. His serum serological test was positive for B. melitensis and B. abortus. Antibody titers were 1:640 for both strains, just at the cutoff level for the serological diagnosis of the infection. CSF analysis showed elevated WBC count (170 cells/mm3 with 34.9% lymphocytes) and decreased glucose level (34.2 mg/dL). Serum glucose level at that time was 99 mg/dL. CSF protein level was 1.5 g/L while red blood cell (RBC) count was 7 cells/mm3. A magnetic resonance imaging (MRI) of his brain showed multiple, bilateral small dural-based nodular enhancements in both upper frontal lobes (Image 1). The patient was diagnosed with neurobrucellosis. Unfortunately, the patient has completely lost his vision in the left eye with weakened vision in the right eye because of a late presentation and delayed diagnosis. As such, the patient was immediately started on ceftriaxone 2 g intravenously (IV) every 12 h, doxycycline 100 mg orally every 12 h and rifampin 900 mg orally once daily for six weeks along with amikacin 400 mg IV every 12 h for the first three weeks. Three weeks after treatment was initiated, both antibody titers remained at 1:640, which was expected as Brucella antibodies may persist for months after conclusion of therapy. His repeated blood and CSF cultures returned negative a few days after treatment. A repeated MRI of the brain showed interval decrease in the number of the previously reported bilateral frontal leptomeningeal enhancing foci. However, small residual abnormal enhancing foci were still noted. Fortunately, no interval development of new lesions was seen (Image 2).\\nUpon completion of the IV regimen (amikacin and ceftriaxone), the patient was discharged on oral doxycycline 100 mg every 12 h and rifampin 300 mg every 8 h to be taken for 6 months. In an outpatient follow up visit three months later, the patient's vision on the right side was slightly improving. While B. melitensis antibody titer slightly decreased to 1:320, B. abortus antibody titer remained at 1:640. Three months later (six months after discharge), a repeated lumbar puncture showed improved CSF analysis with WBC count of 6 cells/mm3, RBC count of 1 cell/mm3, protein level of 0.55 g/L and glucose level of 46.8 mg/dL (serum glucose level was not obtained at the time of this test). Brucella antibody titer in the serum declined from 1:640 to 1:40 for both strains. At this visit, the decision was made to extend the treatment to 3-6 more months to ensure full recovery. Three months later, a repeated brain MRI showed no more meningeal enhancement and CSF analysis was normal; therefore, antibiotic treatment for brucellosis was stopped.\""
            ],
            "application/vnd.google.colaboratory.intrinsic+json": {
              "type": "string"
            }
          },
          "metadata": {},
          "execution_count": 17
        }
      ]
    },
    {
      "cell_type": "markdown",
      "source": [
        "### Combining Cases with Article Metadata"
      ],
      "metadata": {
        "id": "v5wQyXCScfQS"
      }
    },
    {
      "cell_type": "markdown",
      "source": [
        "`merge_data()` is a function used to combine jsons with metadata and article content that belong to the same article."
      ],
      "metadata": {
        "id": "CajfPNxa4ff1"
      }
    },
    {
      "cell_type": "code",
      "source": [
        "def merge_data(metadata, article_cases):\n",
        "\n",
        "  article_dict = metadata\n",
        "  id = article_dict['pmcid']\n",
        "  if article_dict['keywords'] == []:\n",
        "    article_dict['keywords'] = article_cases['keywords']\n",
        "  article_dict['license'] = article_cases['license']\n",
        "  article_dict['case_amount'] = article_cases['case_amount']\n",
        "\n",
        "  cases = []\n",
        "  if 'cases' in article_cases.keys():\n",
        "    for i, case_ in enumerate(article_cases['cases']):\n",
        "      cases.append({'case_id': f\"{id}_{('0' + str(i+1))[-2:]}\", 'case_text': case_.strip()})\n",
        "\n",
        "  caption_dicts = []\n",
        "  if 'caption_dicts' in article_cases.keys():\n",
        "    caption_dicts = article_cases['caption_dicts']\n",
        "\n",
        "  return {'article_id': id, 'article_metadata': article_dict, 'cases': cases, 'captions': caption_dicts}"
      ],
      "metadata": {
        "id": "us1EuOJTcgGe"
      },
      "execution_count": null,
      "outputs": []
    },
    {
      "cell_type": "code",
      "source": [
        "case_report_data = merge_data(article_metadata, article_cases)"
      ],
      "metadata": {
        "id": "3jwlN1R7cgao"
      },
      "execution_count": null,
      "outputs": []
    },
    {
      "cell_type": "markdown",
      "source": [
        "## 3. Extracting Demographic Information from Case"
      ],
      "metadata": {
        "id": "0_Xmq9sQZemx"
      }
    },
    {
      "cell_type": "markdown",
      "source": [
        "### Extracting the Age of the Patient"
      ],
      "metadata": {
        "id": "KVu-uLSFMoPS"
      }
    },
    {
      "cell_type": "markdown",
      "source": [
        "As sometimes the age can be expressed in words instead of numbers, string_to_number() function is created to convert those strings into integers. If the age is lower than 1 year old (e.g. months or weeks old), the age is turned into zero."
      ],
      "metadata": {
        "id": "MFygbM4nP42z"
      }
    },
    {
      "cell_type": "code",
      "source": [
        "def string_to_number(text):\n",
        "\n",
        "  text2int = {\"one\": 1, \"two\": 2, \"three\": 3, \"four\": 4, \"five\": 5, \"six\": 6, \"seven\": 7, \"eight\": 8, \"nine\": 9, \"ten\": 10,\n",
        "              \"eleven\": 11, \"twelve\": 12, \"thirteen\": 13, \"fourteen\": 14, \"fifteen\": 15, \"sixteen\": 16, \"seventeen\": 17, \"eighteen\": 18, \"nineteen\": 19,\n",
        "              \"twenty\": 20, \"thirty\": 30, \"forty\": 40, \"fifty\": 50, \"sixty\": 60, \"seventy\": 70, \"eighty\": 80, \"ninety\": 90, \"hundred\": 100}\n",
        "\n",
        "  number = 0\n",
        "\n",
        "  new_string = 'y'.join(text.split('y')[:-1])\n",
        "\n",
        "  # Numerical substrings are removed from the original string (starting from the highest values), and the corresponding integer is summed to 'number'.\n",
        "  for text_number in list(text2int.keys())[::-1]:\n",
        "    numeric_word = re.search(text_number, new_string)\n",
        "    if numeric_word:\n",
        "      number = number + text2int[numeric_word.group()]\n",
        "      new_string = new_string[:numeric_word.span()[0]] + new_string[numeric_word.span()[1]:]\n",
        "  return number"
      ],
      "metadata": {
        "id": "W2DPrDR27X0Q"
      },
      "execution_count": null,
      "outputs": []
    },
    {
      "cell_type": "markdown",
      "source": [
        "These are some examples:"
      ],
      "metadata": {
        "id": "nVjumkcWQkBy"
      }
    },
    {
      "cell_type": "code",
      "source": [
        "string_to_number('seventy three years-old')"
      ],
      "metadata": {
        "colab": {
          "base_uri": "https://localhost:8080/"
        },
        "id": "MBcpQebkO4GJ",
        "outputId": "ea56f66a-eb2d-4f2f-95a0-0501cd4dd561"
      },
      "execution_count": null,
      "outputs": [
        {
          "output_type": "execute_result",
          "data": {
            "text/plain": [
              "73"
            ]
          },
          "metadata": {},
          "execution_count": 21
        }
      ]
    },
    {
      "cell_type": "code",
      "source": [
        "string_to_number('forty-two yo')"
      ],
      "metadata": {
        "colab": {
          "base_uri": "https://localhost:8080/"
        },
        "id": "kGPRZQhMPrJK",
        "outputId": "a1c9d442-6a3c-4bc1-eabf-a0907e8058ce"
      },
      "execution_count": null,
      "outputs": [
        {
          "output_type": "execute_result",
          "data": {
            "text/plain": [
              "42"
            ]
          },
          "metadata": {},
          "execution_count": 22
        }
      ]
    },
    {
      "cell_type": "code",
      "source": [
        "string_to_number('eleven months old')"
      ],
      "metadata": {
        "colab": {
          "base_uri": "https://localhost:8080/"
        },
        "id": "gXtJsYntPvF3",
        "outputId": "f3a6cf19-9003-4639-fb6b-452fd07d2d29"
      },
      "execution_count": null,
      "outputs": [
        {
          "output_type": "execute_result",
          "data": {
            "text/plain": [
              "0"
            ]
          },
          "metadata": {},
          "execution_count": 23
        }
      ]
    },
    {
      "cell_type": "markdown",
      "source": [
        "`get_age()` is a function that gets the age of the patient from a given clinical case."
      ],
      "metadata": {
        "id": "i_edkPybQurW"
      }
    },
    {
      "cell_type": "code",
      "source": [
        "def get_age(text):\n",
        "  age_pattern_1 = r'(one|two|three|four|five|six|seven|eight|nine|ten|eleven|twelve|thirteen|fourteen|fifteen|sixteen|seventeen|eighteen|nineteen|twenty|thirty|forty|fifty|sixty|seventy|eighty|ninety|hundred|\\d+)(\\s?-+|-?\\s+)(year|yr| yo |month|week|day)s?([^.]+)?(\\s?-+|-?\\s+)old'\n",
        "  match_1 = re.search(age_pattern_1, text.lower())\n",
        "  if match_1:\n",
        "    age_string = match_1.group()\n",
        "  else:\n",
        "    age_pattern_2 = r'( aged| age of) (one|two|three|four|five|six|seven|eight|nine|ten|eleven|twelve|thirteen|fourteen|fifteen|sixteen|seventeen|eighteen|nineteen|twenty|thirty|forty|fifty|sixty|seventy|eighty|ninety|hundred|\\d+)'\n",
        "    match_2 = re.search(age_pattern_2, text.lower())\n",
        "    if match_2:\n",
        "      age_string = match_2.group()\n",
        "    else:\n",
        "      age_string = ''\n",
        "  if re.search(r'(age|year| yo |yr)', age_string):\n",
        "    age_match = re.search('\\d+', age_string)\n",
        "    if age_match:\n",
        "      age = int(age_match.group())\n",
        "    else:\n",
        "      age = string_to_number(age_string)\n",
        "  elif re.search(r'(month|week|day)', age_string):\n",
        "    age = 0\n",
        "  else:\n",
        "    age = None\n",
        "  return age"
      ],
      "metadata": {
        "id": "cqYU7ChC7aPV"
      },
      "execution_count": null,
      "outputs": []
    },
    {
      "cell_type": "markdown",
      "source": [
        "Age extractions are added to each case from case_report_data."
      ],
      "metadata": {
        "id": "_jd6Jgk0RBNY"
      }
    },
    {
      "cell_type": "code",
      "source": [
        "for c in case_report_data['cases']:\n",
        "  c['age'] = get_age(c['case_text'])"
      ],
      "metadata": {
        "id": "eyLKA8fYMyli"
      },
      "execution_count": null,
      "outputs": []
    },
    {
      "cell_type": "markdown",
      "source": [
        "### Extracting the Gender of the Patient"
      ],
      "metadata": {
        "id": "s6EjFJCqMt3-"
      }
    },
    {
      "cell_type": "markdown",
      "source": [
        "`string_to_gender_class()` returns either Female, Male or Transgender depending on the content of the clinical case."
      ],
      "metadata": {
        "id": "FnjdsQ6lRKOI"
      }
    },
    {
      "cell_type": "code",
      "source": [
        "def string_to_gender_class(text):\n",
        "\n",
        "  specific_transgender_pattern = r'(female-to-male|male-to-female|female to male|male to female|transgender|transexual)'\n",
        "  other_transgender_pattern = r'( mtf | ftm )'\n",
        "\n",
        "  specific_female_pattern = r'\\s(woman|girl|mistress|lady|female|puerpera|pregnant)[s\\s.,:]'\n",
        "  other_female_pattern = r\"(\\s(she|her|herself|hers)[s\\s.,']| f )\"\n",
        "\n",
        "  specific_male_pattern = r'\\s(man|boy|gentleman|mister|male|puerpera|pregnant)[s\\s.,:]'\n",
        "  other_male_pattern = r\"(\\s(he|his|him|himself)[s\\s.,']| m )\"\n",
        "\n",
        "  # Accronyms are searched only in the first sentence of the case, to make sure not to get accronyms with a different meaning.\n",
        "  if re.search(specific_transgender_pattern, text.lower()) or re.search(other_transgender_pattern, text.lower().split('.')[0]):\n",
        "    return 'Transgender'\n",
        "  elif re.search(specific_female_pattern, text.lower()):\n",
        "    return 'Female'\n",
        "  elif re.search(specific_male_pattern, text.lower()):\n",
        "    return 'Male'\n",
        "  elif re.search(other_female_pattern, text.lower()):\n",
        "    return 'Female'\n",
        "  elif re.search(other_male_pattern, text.lower()):\n",
        "    return 'Male'\n",
        "  else:\n",
        "    return 'Unknown'"
      ],
      "metadata": {
        "id": "D_7tb5v07cV-"
      },
      "execution_count": null,
      "outputs": []
    },
    {
      "cell_type": "code",
      "source": [
        "for c in case_report_data['cases']:\n",
        "  # To reduce false positives, at first only the first sentence of the case is considered. If no gender is identified, then the whole case is used as an input.\n",
        "  c['gender'] = string_to_gender_class(c['case_text'].split('.')[0])\n",
        "  if c['gender'] == 'Unknown':\n",
        "    c['gender'] = string_to_gender_class(c['case_text'])"
      ],
      "metadata": {
        "id": "VKdUtrFZRdSF"
      },
      "execution_count": null,
      "outputs": []
    },
    {
      "cell_type": "markdown",
      "source": [
        "## 4. Data Rearrangement"
      ],
      "metadata": {
        "id": "vHO_nxrBZqCI"
      }
    },
    {
      "cell_type": "markdown",
      "source": [
        "### Captions and images are assigned to their corresponding Clinical Cases"
      ],
      "metadata": {
        "id": "HxKdikTxUv3K"
      }
    },
    {
      "cell_type": "markdown",
      "source": [
        "The first step to assign images and captions to cases is to get all the figure numbers mentioned in a specific case (e.g. turning the string \"see fig. 1 and 2\" into the list [1, 2]). This is the purpose of `get_fig_numbers()`."
      ],
      "metadata": {
        "id": "6viGQLnsTQtg"
      }
    },
    {
      "cell_type": "code",
      "source": [
        "def get_fig_numbers(input_string):\n",
        "\n",
        "  ### Splitting the string into substrings that start with mentions of a figure (such as \"fig.\" or \"Figures\") and end with a dot.\n",
        "\n",
        "  patterns = r\"(?:fig |figs |fig\\.|figs\\.|figure|figures|image\\(fig |\\(figs |\\(fig\\.|\\(figs\\.|\\(figure|\\(figures|\\(image)(?:[^.]+)\\.\"\n",
        "  matches = re.findall(patterns, input_string.lower())\n",
        "\n",
        "  ### Splitting substrings that include more than one figure mention.\n",
        "\n",
        "  substrings = []\n",
        "  for m in matches:\n",
        "    fig_substrings = m.split('fig')\n",
        "    for s in fig_substrings:\n",
        "      if s:\n",
        "        substrings.append(s)\n",
        "\n",
        "  ### Tokenization of substrings using blank spaces.\n",
        "\n",
        "  token_lists = []\n",
        "  for s in substrings:\n",
        "    token_lists.append(re.split(r'\\s+', s))\n",
        "\n",
        "  ### Adding fig numbers found in tokens to the fig_list object.\n",
        "\n",
        "  fig_list = []\n",
        "  for l in token_lists:\n",
        "\n",
        "    previous_number_idx = None\n",
        "    fig_number = None\n",
        "    l_fig_list = []\n",
        "    range_token = False\n",
        "    break_id = None # This is used to ignore numbers that appear after closing parenthesis, semi-colons or other similar special characters.\n",
        "\n",
        "    for idx, token in enumerate(l):\n",
        "\n",
        "      if re.search(r\"[^a-zA-Z0-9\\(,.\\-]\", token):\n",
        "        break_id = idx +1\n",
        "\n",
        "      if idx == break_id:\n",
        "        break\n",
        "\n",
        "      if 'year' not in token: ### to ignore tokens with /d+-year-old format.\n",
        "\n",
        "        ### If the first number appears more than 5 tokens away from the figure mention, it's likely to be referring to something else, so the loop is broken.\n",
        "\n",
        "        if previous_number_idx is None:\n",
        "          if idx > 5:\n",
        "            break\n",
        "\n",
        "        ### If any number appears more than 5 tokens away from the previous number, it's likely to be referring to something else, so the loop is broken.\n",
        "\n",
        "        else:\n",
        "          if (idx - previous_number_idx) > 5:\n",
        "            break\n",
        "\n",
        "          ### If '-', 'to' or 'through' come between two numbers, it is in fact a range so range_token is True. This is used, for example, to be able to extract '4-7' as [4, 5, 6, 7].\n",
        "\n",
        "          if re.search(r'-|to|through', token) and (previous_number_idx  is not None) and (l_fig_list != []):\n",
        "            range_token = True\n",
        "            range_start = l_fig_list[-1]\n",
        "\n",
        "        ### All the numbers present in the token are extracted. If the token is not a range, only the first number is added to l_fig_list.\n",
        "\n",
        "        fig_number = re.findall(r'\\d+', token)\n",
        "        if fig_number:\n",
        "          previous_number_idx = idx\n",
        "          if re.search(r'-', token) and len(fig_number) > 1:\n",
        "            f_range = list(range(int(fig_number[0]), int(fig_number[-1])+1))\n",
        "            for e in f_range:\n",
        "              l_fig_list.append(int(e))\n",
        "          else:\n",
        "            l_fig_list.append(int(fig_number[0]))\n",
        "\n",
        "    ### If l_fig_list includes more than one number and it is a range (range_token == True), then all the numbers from that range are added to the l_fig_list.\n",
        "\n",
        "    if range_token and (len(l_fig_list) > 1):\n",
        "      range_end_index = l_fig_list.index(range_start) + 1\n",
        "      if len(l_fig_list) > range_end_index:\n",
        "        l_fig_list = list(range(range_start, l_fig_list[range_end_index] +1))\n",
        "\n",
        "    ### The elements from l_fig_list are added to the outcome fig_list. If the number is higher than 16, it's unlikely to be a figure number, so its filtered out.\n",
        "\n",
        "    for element in l_fig_list:\n",
        "      if element < 16:\n",
        "        if element not in fig_list:\n",
        "          fig_list.append(element)\n",
        "\n",
        "  return fig_list"
      ],
      "metadata": {
        "id": "koyj8WCIZqvt"
      },
      "execution_count": null,
      "outputs": []
    },
    {
      "cell_type": "code",
      "source": [
        "for c in case_report_data['cases']:\n",
        "  c['figs_in_text'] = get_fig_numbers(c['case_text'])"
      ],
      "metadata": {
        "id": "tI5OmOJbZq-I"
      },
      "execution_count": null,
      "outputs": []
    },
    {
      "cell_type": "markdown",
      "source": [
        "After getting all the figures mentioned in text, captions are assigned to cases if the fig number matches the caption order."
      ],
      "metadata": {
        "id": "aqnmXsFXTzmF"
      }
    },
    {
      "cell_type": "code",
      "source": [
        "for case_ in case_report_data['cases']:\n",
        "  case_captions = []\n",
        "  for c in case_report_data['captions']:\n",
        "    if c['caption_order'] in case_['figs_in_text']:\n",
        "      case_captions.append(c)\n",
        "  case_['case_image_list'] = case_captions"
      ],
      "metadata": {
        "id": "Z4ItFNCNS-IZ"
      },
      "execution_count": null,
      "outputs": []
    },
    {
      "cell_type": "markdown",
      "source": [
        "### Text References are assigned to the corresponding Images"
      ],
      "metadata": {
        "id": "-Y75szi_Zf7Z"
      }
    },
    {
      "cell_type": "markdown",
      "source": [
        "`assign_text_references()` is used to assign to each figure the part of the case that mention such figure. For example, fig 1 is assigned any sentence from the clinical case that contains strings such as '(see fig 1)'."
      ],
      "metadata": {
        "id": "dms9DaWcUEmn"
      }
    },
    {
      "cell_type": "code",
      "source": [
        "def assign_text_references(case_dict):\n",
        "\n",
        "  paragraphs = re.split('\\n', case_dict['case_text'])\n",
        "  sentences = []\n",
        "\n",
        "  for p in paragraphs:\n",
        "    sentence_limits = re.findall(r'\\. [A-Z]', p)\n",
        "\n",
        "    for i, l in enumerate(sentence_limits):\n",
        "      sentence_end_index = re.search(l, p).span()[0]+1\n",
        "      sentences.append(p[:sentence_end_index])\n",
        "      p = p[sentence_end_index + 1:]\n",
        "      if i == len(sentence_limits)-1:\n",
        "        sentences.append(p)\n",
        "\n",
        "  fig_references = []\n",
        "  for s in sentences:\n",
        "    patterns = r\"(?:fig |figs |fig\\.|figs\\.|figure|figures|image|\\(fig |\\(figs |\\(fig\\.|\\(figs\\.|\\(figure|\\(figures|\\(image)(?:[^.]+)\\.\"\n",
        "    if re.findall(patterns, s.lower()):\n",
        "      fig_references.append(s)\n",
        "\n",
        "  for c in case_dict['case_image_list']:\n",
        "    c['text_references'] = []\n",
        "    for r in fig_references:\n",
        "      mentioned_figs = get_fig_numbers(r)\n",
        "      if c['caption_order'] in mentioned_figs:\n",
        "        c['text_references'].append(r)"
      ],
      "metadata": {
        "id": "2thQQHBjaFqm"
      },
      "execution_count": null,
      "outputs": []
    },
    {
      "cell_type": "code",
      "source": [
        "for c in case_report_data['cases']:\n",
        "  for l in c['case_image_list']:\n",
        "    l['image_id']  = f\"{c['case_id']}_{l['file']}\" # An ID is created for each image.\n",
        "  assign_text_references(c)"
      ],
      "metadata": {
        "id": "PB-M44xuaF-e"
      },
      "execution_count": null,
      "outputs": []
    },
    {
      "cell_type": "markdown",
      "source": [
        "After rearranging the data, unnecessary data points are removed."
      ],
      "metadata": {
        "id": "xD-zLvNWVwCK"
      }
    },
    {
      "cell_type": "code",
      "source": [
        "case_report_data.pop('captions')\n",
        "for c in case_report_data['cases']:\n",
        "  if 'figs_in_text' in c.keys():\n",
        "    c.pop('figs_in_text')\n",
        "  for l in c['case_image_list']:\n",
        "    if 'caption_order' in l.keys():\n",
        "      l.pop('caption_order')"
      ],
      "metadata": {
        "id": "lGvr1FAHVo5y"
      },
      "execution_count": null,
      "outputs": []
    },
    {
      "cell_type": "markdown",
      "source": [
        "## Final Outcome"
      ],
      "metadata": {
        "id": "F2chzuq9AH3t"
      }
    },
    {
      "cell_type": "markdown",
      "source": [
        "The final outcome is split into different objects (metadata_dict, case_dict and image_dict) to reduce the size of each file in the whole case report dataset."
      ],
      "metadata": {
        "id": "6Orpw668V7xw"
      }
    },
    {
      "cell_type": "code",
      "source": [
        "metadata_dict = {'article_id': case_report_data['article_id'], 'article_metadata': {key: value for key, value in case_report_data['article_metadata'].items()}}"
      ],
      "metadata": {
        "id": "206O0OgTWn_L"
      },
      "execution_count": null,
      "outputs": []
    },
    {
      "cell_type": "code",
      "source": [
        "metadata_dict"
      ],
      "metadata": {
        "colab": {
          "base_uri": "https://localhost:8080/"
        },
        "id": "Oku58etIWn3u",
        "outputId": "e75bf12c-0192-4fb0-aff9-ddfb031ec768"
      },
      "execution_count": null,
      "outputs": [
        {
          "output_type": "execute_result",
          "data": {
            "text/plain": [
              "{'article_id': 'PMC6744365',\n",
              " 'article_metadata': {'doi': '10.1016/j.idcr.2019.e00633',\n",
              "  'pmid': '31534908',\n",
              "  'pmcid': 'PMC6744365',\n",
              "  'title': 'Ceftriaxone use in brucellosis: A case series',\n",
              "  'journal': 'IDCases',\n",
              "  'journal_detail': '2019 Sep 5:18:e00633.',\n",
              "  'year': '2019',\n",
              "  'link': 'https://pubmed.ncbi.nlm.nih.gov/31534908/',\n",
              "  'authors': ['Daniah F Fatani',\n",
              "   'Walaa A Alsanoosi',\n",
              "   'Mazen A Badawi',\n",
              "   'Abrar K Thabit'],\n",
              "  'major_mesh_terms': [],\n",
              "  'minor_mesh_terms': ['Case Reports'],\n",
              "  'mesh_terms': ['Case Reports'],\n",
              "  'keywords': ['brucella',\n",
              "   'brucellosis',\n",
              "   'cases',\n",
              "   'ceftriaxone',\n",
              "   'saudi arabia',\n",
              "   'zoonotic infection'],\n",
              "  'license': 'CC BY-NC-ND',\n",
              "  'case_amount': 6}}"
            ]
          },
          "metadata": {},
          "execution_count": 35
        }
      ]
    },
    {
      "cell_type": "code",
      "source": [
        "case_dict = {'article_id': case_report_data['article_id'], 'cases': [{key: value for key, value in case_.items() if key != 'case_image_list'} for case_ in case_report_data['cases']]}"
      ],
      "metadata": {
        "id": "Dj0hLrevWMoC"
      },
      "execution_count": null,
      "outputs": []
    },
    {
      "cell_type": "code",
      "source": [
        "case_dict"
      ],
      "metadata": {
        "colab": {
          "base_uri": "https://localhost:8080/"
        },
        "id": "-IViSuDWWlHw",
        "outputId": "e315e06d-d206-4ee7-fd23-5625a309f975"
      },
      "execution_count": null,
      "outputs": [
        {
          "output_type": "execute_result",
          "data": {
            "text/plain": [
              "{'article_id': 'PMC6744365',\n",
              " 'cases': [{'case_id': 'PMC6744365_01',\n",
              "   'case_text': \"A 25-year-old man, previously healthy, was initially admitted due to slowly progressive headache with blurry vision and fever for nine months. The patient recalls ingesting raw camel milk, which is a major risk factor for brucellosis. There was no previous contact with a tuberculosis case. The headache worsened one week before his admission and the patient lost vision in the left eye. His vital signs and cognitive function were normal. Pupils were reactive, but the patient was barely seeing the flash light with his left eye. Ophthalmologic examination revealed an atrophic optic disc mainly with decreased visual acuity bilaterally. Extraocular muscles were intact. The remaining neurological examination was unremarkable.\\nHis diagnostic work up showed total white blood cell (WBC) count of 5.61 x 109 cells/mm3 and a C-reactive protein (CRP) level of 3.76 mg/L. His cerebrospinal fluid (CSF) acid fast bacilli (AFB) stain and Mycobacterium tuberculosis polymerase chain reaction (MTB-PCR) were both negative. Blood and CSF cultures were positive for Brucella spp. His serum serological test was positive for B. melitensis and B. abortus. Antibody titers were 1:640 for both strains, just at the cutoff level for the serological diagnosis of the infection. CSF analysis showed elevated WBC count (170 cells/mm3 with 34.9% lymphocytes) and decreased glucose level (34.2 mg/dL). Serum glucose level at that time was 99 mg/dL. CSF protein level was 1.5 g/L while red blood cell (RBC) count was 7 cells/mm3. A magnetic resonance imaging (MRI) of his brain showed multiple, bilateral small dural-based nodular enhancements in both upper frontal lobes (Image 1). The patient was diagnosed with neurobrucellosis. Unfortunately, the patient has completely lost his vision in the left eye with weakened vision in the right eye because of a late presentation and delayed diagnosis. As such, the patient was immediately started on ceftriaxone 2 g intravenously (IV) every 12 h, doxycycline 100 mg orally every 12 h and rifampin 900 mg orally once daily for six weeks along with amikacin 400 mg IV every 12 h for the first three weeks. Three weeks after treatment was initiated, both antibody titers remained at 1:640, which was expected as Brucella antibodies may persist for months after conclusion of therapy. His repeated blood and CSF cultures returned negative a few days after treatment. A repeated MRI of the brain showed interval decrease in the number of the previously reported bilateral frontal leptomeningeal enhancing foci. However, small residual abnormal enhancing foci were still noted. Fortunately, no interval development of new lesions was seen (Image 2).\\nUpon completion of the IV regimen (amikacin and ceftriaxone), the patient was discharged on oral doxycycline 100 mg every 12 h and rifampin 300 mg every 8 h to be taken for 6 months. In an outpatient follow up visit three months later, the patient's vision on the right side was slightly improving. While B. melitensis antibody titer slightly decreased to 1:320, B. abortus antibody titer remained at 1:640. Three months later (six months after discharge), a repeated lumbar puncture showed improved CSF analysis with WBC count of 6 cells/mm3, RBC count of 1 cell/mm3, protein level of 0.55 g/L and glucose level of 46.8 mg/dL (serum glucose level was not obtained at the time of this test). Brucella antibody titer in the serum declined from 1:640 to 1:40 for both strains. At this visit, the decision was made to extend the treatment to 3-6 more months to ensure full recovery. Three months later, a repeated brain MRI showed no more meningeal enhancement and CSF analysis was normal; therefore, antibiotic treatment for brucellosis was stopped.\",\n",
              "   'age': 25,\n",
              "   'gender': 'Male'},\n",
              "  {'case_id': 'PMC6744365_02',\n",
              "   'case_text': 'A 54-year-old woman, known case of type 2 diabetes mellitus and hypertension, was admitted to the hospital due to fever, severe neck and back pain, as well as nausea and vomiting for 2 weeks. She admitted drinking a small amount of raw milk several weeks before her presentation. She had no signs of meningitis and her neurological examination was normal. A lumbar puncture revealed no bacterial growth with CSF protein level of 0.7 g/L and glucose level of 126 mg/dL (serum glucose level was 268.2 mg/dL). CSF WBC count was <1 cell/mm3 and RBC count was 8 cells/mm3. AFB stain showed no Mycobacteria, and CSF MTB-PCR did not detect M. tuberculosis. Urine culture came back negative for any bacterial growth. However, a blood culture was positive for Brucella spp. In addition, both B. melitensis and B. abortus antibody titers in the serum exceeded 1:1280. An abdominal ultrasound was unremarkable. A transthoracic echocardiography followed by a transesophageal echocardiography were both normal. The patient was immediately started on ceftriaxone 2 g IV every 12 h, streptomycin 1 g intramuscularly (IM) once daily, doxycycline 100 mg orally every 12 h and rifampin 300 mg orally every 8 h daily for a total duration of 6 weeks. Her nausea and vomiting were treated with metoclopramide and ondansetron. Her back pain appeared to be due to disc prolapse rather than Brucella spondylodiscitis as was concluded from the MRI of her cervical and lumbosacral areas. After the patient completed 12 days of therapy, she was discharged on doxycycline 100 mg orally every 12 h and rifampin 300 mg orally every 8 h for 30 days and to continue her parenteral antibiotics as an outpatient. Upon follow up one month later, both Brucella antibody titers declined to 1:1280 in the serum. CRP level was 6.93 mg/L (no level was obtained at baseline). The patient was advised to continue the oral antibiotics for 6 more weeks while streptomycin and ceftriaxone were stopped. Two months later (three months post discharge), CRP level increased to 31 mg/L; nonetheless, antibody titers of B. melitensis and B. abortus declined to 1:640 and 1:320, respectively. As the patient appeared asymptomatic and clinically well, her antibiotics were stopped; though, she was advised to remain under supervision and to return for follow up in case of a potential relapse.',\n",
              "   'age': 54,\n",
              "   'gender': 'Female'},\n",
              "  {'case_id': 'PMC6744365_03',\n",
              "   'case_text': \"A 31-years-old man who was otherwise healthy presented to the emergency department with high grade fever that persisted for a week but was manageable with acetaminophen (paracetamol). The patient also suffered from headache for three days which he described as being band-like surrounding his head. He reported regular contact with camels and occasional consumption of their raw milk. Three weeks before presentation, he was on vacation in Turkey where he consumed raw dairy products at a rural farm. He was febrile but his physical examination was normal otherwise. Lab investigations revealed a CRP level of 13.5 mg/L and CSF analysis showing a WBC count of 59 cells/mm3 (polymorphonuclear cells of 23% and lymphocytes of 71%), RBC count of 3 cells/mm3, protein level of 0.43 g/L and glucose level of 54 mg/dL (serum glucose was 100 mg/dL). His blood and CSF cultures were negative for Brucella spp. and so were the AFB satin, culture, and MTB-PCR. Nevertheless, his Brucella serum serology revealed an antibody titer of 1:1280 for both, B. melitensis and B. abortus. He was admitted as a case of neurobrucellosis and was started on ceftriaxone 2 g IV every 12 h, amikacin 720 mg (7.5 mg/kg) IV every 12 h, doxycycline 100 mg orally every 12 h and rifampin 900 mg orally once daily. Ten days later, he stared having spikes of fever reaching 40  C, a thorough physical examination and work up were done and they were negative for any potential infection or reason for fever. Thus, antibiotic-induced fever was suspected due to ceftriaxone, thus, it was discontinued despite the overall improvement of the patient's central nervous system symptoms. Ceftriaxone was replaced with ciprofloxacin 400 mg IV every 8 h. As the fever persisted and liver enzymes were noted to increase, rifampin was stopped as well. In less than a week, rifampin was reintroduced. However, 90 min after the dose, the patient experienced shortness of breath, rash, swelling and redness of skin. His reaction was managed immediately with antihistamine and hydrocortisone. This allergic reaction was presumed to be attributed to rifampin; hence, it was stopped and never introduced again. Moreover, the patient also complained of reduced hearing in his right ear which was suspected to be due to an ototoxic effect of amikacin which resulted in its discontinuation. In order to enhance the management of neurobrucellosis, trimethoprim/sulfamethoxazole (TMP/SMX) double strength was started orally; yet, the patient had an episode of vomiting, so it was switched to IV which was well tolerated. Later on, as the patient was being prepared for discharge, IV TMP/SMX was stepped down to the oral formulation again. A lumbar puncture was repeated before discharge and showed an improvement from baseline with WBC count of 4 cells/mm3 (lymphocytes of 86%), RBC count of 9 cells/mm3, 0.33 g/L of protein and 61.2 mg/dL of glucose (serum glucose was not available at this point of time). Repeated antibody titers for B. melitensis and B. abortus were 1:640 and 1:320, respectively. The patient was discharged on doxycycline 100 mg orally every 12 h, ciprofloxacin 750 mg orally every 12 h and TMP/SMX double strength orally every 12 h. In his first outpatient visit one month after discharge, the patient admitted to voluntarily discontinuing TMP/SMX due to severe episodes of vomiting and refused to take it again; however, he continued taking doxycycline and ciprofloxacin which resulted in clinical success (after a total of 18 weeks on doxycycline and 16 weeks on ciprofloxacin).\",\n",
              "   'age': 31,\n",
              "   'gender': 'Male'},\n",
              "  {'case_id': 'PMC6744365_04',\n",
              "   'case_text': \"A 25-years-old man who was previously healthy came to the hospital complaining of left lower limb pain that progressed to limb weakness with decreased ability to walk. Physical examination revealed moderate lower limb weakness with foot drop. It was worse on the left side with lower motor neuron lesion findings. He had normal sensory exam. He reported drinking raw camel milk three months before the first episode of pain with a family member who was diagnosed with brucellosis recently. There was no tuberculosis contact. Since the patient was suspected to have neurobrucellosis, lumbar puncture was done. CSF analysis showed a WBC count of 420 (polymorphonuclear cells of 4% and lymphocytes of 90%) cells/mm3, RBC count of 18 cells/mm3, elevated protein level at 2.45 g/L and glucose level of 21.6 mg/dL (serum glucose was 81 mg/dL). The CSF culture was positive for Brucella species. The acid fast bacilli stain and culture were negative, as well as the MTB-PCR. Other investigations including tests for hepatitis B and C viruses and human immunodeficiency virus (HIV) 1 and 2 were all negative. Serologically, antibody titers results from the CSF for B. melitensis and B. abortuswere 1:160 and 1:80, respectively. His serum titers were not obtained initially. His CRP level was within normal limits. The patient refused to have a tuberculin skin test. An MRI of lumbosacral spine revealed enhancement of cauda equina nerve roots and surface of thecal sac, as well as L5-S1 degenerative changes with central posterior disc bulge indenting the ventral aspect of the thecal sac with no significant neural compromise associated with intervertebral disc dehydration (Image 3). He was admitted as a case of cauda equina syndrome secondary to neurobrucellosis and was started on ceftriaxone 2 g IV every 12 h, amikacin 500 mg IV every 8 h, doxycycline 100 mg orally every 12 h and rifampin 900 mg orally once daily. The initial plan was to continue the antibiotics with daily physiotherapy then re-evaluate after 6 weeks. However, two weeks into the treatment, the patient's status deteriorated significantly, from difficulty walking to being completely bed bound. Repeated work up showed no other significant findings. Furthermore, after 4 weeks of treatment, the patient started complaining of decreased hearing and pain in both ears resulted in discontinuation of amikacin. Six weeks into therapy, a repeated lumbar puncture did not show a significant improvement with a CSF analysis showing a WBC count of 315 cells/mm3 (polymorphonuclear cells of 41% and lymphocytes of 45%), RBC count of 15 cells/mm3, protein of 3.73 g/L and glucose level of 23.4 mg/dL (serum glucose was 82 mg/dL). Serum antibody titers were 1:320 and 1:80 for B. melitensis and B. abortus, respectively. Since the CSF repeated culture returned negative for Brucella spp., prednisone 1 mg/kg tapering dose was added aiming to reduce further nerve impingement. Luckily, the patient started to show clinical improvement and the IV ceftriaxone was discontinued after completing six weeks of treatment. The patient continued to restore his lower limb power and he was able to transfer to the wheelchair independently. Hence, he was discharged on doxycycline 100 mg orally every 12 h and rifampin 900 mg orally once daily for one year. The patient was scheduled for follow up in both the infectious diseases and neurology clinics. On his outpatient visits, the patient showed remarkable improvement of his lower limb weakness and he restored the ability to walk again using a cane. Serum antibody titers for both Brucella strains were at 1:80 and CRP remained within the normal range.\",\n",
              "   'age': 25,\n",
              "   'gender': 'Male'},\n",
              "  {'case_id': 'PMC6744365_05',\n",
              "   'case_text': 'A 60-year-old woman with a history of severe osteoporosis and previously treated tuberculous lymphadenitis, presented to the emergency department with fever she was experiencing daily for a month that did not respond to antipyretics. This was associated with frontal headache, night sweats, rigors, chills, generalized body ache, unintentional weight loss of 3-4 kg and pain in the lower back and right leg. She reported regular consumption of raw cheese. Investigational workup was done upon admission where a CSF analysis showed 8 cells/mm3 of WBCs (no differential was done), 12 cells/mm3 of RBCs, 0.36 g/L of protein and 54 mg/dL of glucose (serum glucose was not obtained). Blood CRP level was 36 mg/L. She was admitted as a case of possible bacterial meningitis with suspicion of neurobrucellosis. The patient was started on ceftriaxone 2 g IV daily. Three days later, her blood culture returned positive for Brucella spp., However the CSF culture was negative, as well as the AFB stain. Serological testing for hepatitis B and C viruses and HIV 1 and 2 were all negative. High antibody titers for both B. melitensis and B. abortus of 1:1280 were found in the serum whereas it was negative in the CSF. Ceftriaxone 2 g IV every 12 h was continued and prescribed for 6 weeks along with amikacin 400 mg IV every 12 h for the same duration, as well as doxycycline 100 mg orally every 12 h for 6 months and rifampin 900 mg orally once daily for 6 months. After about two weeks of treatment, lumbar puncture was repeated and the CSF showed no significant changes with WBC count of 7cells/mm3, RBC count of 1 cells/mm3, protein of 0.33 g/L and glucose of 55.8 mg/dL (serum glucose was not available). During hospitalization, the patient felt generally better and became afebrile. After completing the IV antibiotics course (ceftriaxone and amikacin), lumbar puncture was ordered, but the patient refused to undergo the procedure. Consequently, the patient was discharged on doxycycline 100 mg orally every 12 h and rifampin 900 mg orally once daily for 6 months. During her follow up visits, the patient reported feeling well and afebrile with remarkable improvement of the headache. The follow up antibody titer was 1:320 for both Brucella strains, which continued to decrease until it reached 1:160 after completing 6 months of antibiotic therapy. As such, treatment was discontinued.',\n",
              "   'age': 60,\n",
              "   'gender': 'Female'},\n",
              "  {'case_id': 'PMC6744365_06',\n",
              "   'case_text': \"A 44-year-old man with a history of recurrent epididymo-orchitis presented to the emergency department complaining of an on-and-off scrotal pain for the last 15 days and low grade fever for which he was given ciprofloxacin for 10 days and acetaminophen (paracetamol) from another hospital. This regimen helped managing his symptoms; however, they were not resolved rendering him seeking medical help at our institution. There were no histories of contact with a tuberculosis patient or raw milk consumption. On physical examination, his scrotum was enlarged, swollen and tender. An ultrasound revealed both testes were of normal size; however, there was bilateral significant increased vascularity in both testicles and both epididymal heads. The scrotal skin was not thickened. There was a slightly increased echogenicity of both testes and a small left hydrocele was identified.\\nThere were a few (about four) tiny echogenic foci noted within the left testicle likely representing small calcifications. Physical examination findings of regional lymph nodes and skin were not significant. While awaiting other investigations, the patient was started on ciprofloxacin 400 mg IV every 12 h as an empiric therapy. Blood culture came back negative for Brucella spp.; however, antibody titers were positive for B. melitensis and B. abortus at 1:1280 for both strains. CRP level was 6.8 mg/L. The patient was diagnosed with Brucella epididymo-orchitis, but refused to undergo lumbar puncture for further investigation. Due to lack of clinical improvement, ciprofloxacin was discontinued three days later and was replaced by ceftriaxone 1 g IV every 12 h, doxycycline 100 mg orally every 12 h and rifampin 900 mg orally once daily. After two doses of 900 mg rifampin, the dose was decreased to 600 mg orally once daily though nothing in the patient's notes indicated the reason for the dose change nor the liver enzymes were elevated. After ten days of treatment, ceftriaxone was stopped and the patient was discharged on doxycycline 100 mg orally every 12 h and rifampin 600 mg orally once daily for a minimum period of three months. Before discharge, the patient was clinically improving as demonstrated by the decreased swelling and tenderness of his scrotum. On his first visit as an outpatient 2 weeks after discharge, the patient reported no new complications and appeared clinically well. Tests showed no signs of drug-induced hepatotoxicity, so the rifampin dose was increased to 900 mg orally once daily. On examination, his scrotum appeared to be relieved of the swelling and decreased in size. CRP level decreased slightly to 5.21 mg/L. A week later, the patient came again for follow up. While the patient did not show up for the next visit, his Brucella epididymoorchitis was deemed cured based on the improved clinical findings and decreased CRP. No repeated serology was done.\",\n",
              "   'age': 44,\n",
              "   'gender': 'Male'}]}"
            ]
          },
          "metadata": {},
          "execution_count": 37
        }
      ]
    },
    {
      "cell_type": "code",
      "source": [
        "image_dict = {'article_id': case_report_data['article_id'], 'case_images': [{key: value for key, value in case_.items() if key in ['case_id', 'case_image_list']} for case_ in case_report_data['cases']]}"
      ],
      "metadata": {
        "id": "ida9RkqlWfLL"
      },
      "execution_count": null,
      "outputs": []
    },
    {
      "cell_type": "code",
      "source": [
        "image_dict"
      ],
      "metadata": {
        "colab": {
          "base_uri": "https://localhost:8080/"
        },
        "id": "Jeaxm8gdAKZm",
        "outputId": "0b3a4920-5960-405d-bdc7-91ae21e0d29d"
      },
      "execution_count": null,
      "outputs": [
        {
          "output_type": "execute_result",
          "data": {
            "text/plain": [
              "{'article_id': 'PMC6744365',\n",
              " 'case_images': [{'case_id': 'PMC6744365_01',\n",
              "   'case_image_list': [{'tag': 'img0005',\n",
              "     'caption': 'Brain magnetic resonance imaging of patient case 1 at baseline on T1 post contrast cuts showing multiple enhancing dural based lesions in both upper frontal lobes at different levels.',\n",
              "     'file': 'pl1.jpg',\n",
              "     'image_id': 'PMC6744365_01_pl1.jpg',\n",
              "     'text_references': ['A magnetic resonance imaging (MRI) of his brain showed multiple, bilateral small dural-based nodular enhancements in both upper frontal lobes (Image 1).']},\n",
              "    {'tag': 'img0010',\n",
              "     'caption': 'Brain magnetic resonance imaging of patient case 1 after three weeks of treatment.',\n",
              "     'file': 'pl2.jpg',\n",
              "     'image_id': 'PMC6744365_01_pl2.jpg',\n",
              "     'text_references': ['Fortunately, no interval development of new lesions was seen (Image 2).']}]},\n",
              "  {'case_id': 'PMC6744365_02', 'case_image_list': []},\n",
              "  {'case_id': 'PMC6744365_03', 'case_image_list': []},\n",
              "  {'case_id': 'PMC6744365_04',\n",
              "   'case_image_list': [{'tag': 'img0015',\n",
              "     'caption': 'Spinal magnetic resonance imaging of patient case 4 on T1 post contrast on sagittal and axial views showing enhancing cauda equina nerve roots.',\n",
              "     'file': 'pl3.jpg',\n",
              "     'image_id': 'PMC6744365_04_pl3.jpg',\n",
              "     'text_references': ['An MRI of lumbosacral spine revealed enhancement of cauda equina nerve roots and surface of thecal sac, as well as L5-S1 degenerative changes with central posterior disc bulge indenting the ventral aspect of the thecal sac with no significant neural compromise associated with intervertebral disc dehydration (Image 3).']}]},\n",
              "  {'case_id': 'PMC6744365_05', 'case_image_list': []},\n",
              "  {'case_id': 'PMC6744365_06', 'case_image_list': []}]}"
            ]
          },
          "metadata": {},
          "execution_count": 39
        }
      ]
    }
  ],
  "metadata": {
    "colab": {
      "provenance": [],
      "authorship_tag": "ABX9TyM6lf8Wa9TGpT3YbYk0edQq",
      "include_colab_link": true
    },
    "kernelspec": {
      "display_name": "Python 3",
      "name": "python3"
    },
    "language_info": {
      "name": "python"
    }
  },
  "nbformat": 4,
  "nbformat_minor": 0
}