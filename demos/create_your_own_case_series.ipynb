{
  "nbformat": 4,
  "nbformat_minor": 0,
  "metadata": {
    "colab": {
      "provenance": [],
      "authorship_tag": "ABX9TyOufFdE47WS558sy5LwBjcz",
      "include_colab_link": true
    },
    "kernelspec": {
      "name": "python3",
      "display_name": "Python 3"
    },
    "language_info": {
      "name": "python"
    }
  },
  "cells": [
    {
      "cell_type": "markdown",
      "metadata": {
        "id": "view-in-github",
        "colab_type": "text"
      },
      "source": [
        "<a href=\"https://colab.research.google.com/github/mauro-nievoff/MultiCaRe_Dataset/blob/main/demos/create_your_own_case_series.ipynb\" target=\"_parent\"><img src=\"https://colab.research.google.com/assets/colab-badge.svg\" alt=\"Open In Colab\"/></a>"
      ]
    },
    {
      "cell_type": "markdown",
      "source": [
        "# Create your Own Case Series Dataset 🚀 - No Code Needed 😉"
      ],
      "metadata": {
        "id": "VNMzjEUVaZXf"
      }
    },
    {
      "cell_type": "markdown",
      "source": [
        "## Step 1: Open this notebook in Colab"
      ],
      "metadata": {
        "id": "3BrlqLxRmMZA"
      }
    },
    {
      "cell_type": "markdown",
      "source": [
        "Note: You can use the 'Open in Colab' button for this."
      ],
      "metadata": {
        "id": "OCAmr-GRmhDQ"
      }
    },
    {
      "cell_type": "markdown",
      "source": [
        "## Step 2: Fill the form below with the details of your Case Series Dataset:"
      ],
      "metadata": {
        "id": "Ag1-f4zeadId"
      }
    },
    {
      "cell_type": "code",
      "source": [
        "# @title Demographic Information\n",
        "\n",
        "# @markdown Age Range:\n",
        "min_age = 0 # @param {type: \"slider\", min: 0, max: 100}\n",
        "max_age = 100 # @param {type: \"slider\", min: 0, max: 100}\n",
        "\n",
        "# @markdown Gender:\n",
        "female = True # @param {type:\"boolean\"}\n",
        "male =  True # @param {type:\"boolean\"}\n",
        "transgender = True # @param {type:\"boolean\"}"
      ],
      "metadata": {
        "cellView": "form",
        "id": "NGIUQJji3nc7"
      },
      "execution_count": null,
      "outputs": []
    },
    {
      "cell_type": "code",
      "source": [
        "# @title Article Information\n",
        "\n",
        "# @markdown Article Year Range:\n",
        "\n",
        "min_year = 1990 # @param {type: \"slider\", min: 1990, max: 2023}\n",
        "max_year = 2023 # @param {type: \"slider\", min: 1990, max: 2023}\n",
        "\n",
        "# @markdown Article License:\n",
        "\n",
        "license = 'All License Types' # @param [\"All License Types\", \"Commercial Use Only\"]"
      ],
      "metadata": {
        "cellView": "form",
        "id": "Q3bgr5gd-lnn"
      },
      "execution_count": null,
      "outputs": []
    },
    {
      "cell_type": "code",
      "source": [
        "# @title Free Text Search\n",
        "\n",
        "# @markdown Words included in Clinical Case (separate with commas):\n",
        "\n",
        "case_words = '' # @param {type:\"string\"}\n",
        "case_operator = 'Any' # @param [\"All\", \"Any\", \"None\"]\n",
        "\n",
        "# @markdown Words included in Image Captions (separate with commas):\n",
        "\n",
        "caption_words = '' # @param {type:\"string\"}\n",
        "caption_operator = 'Any' # @param [\"All\", \"Any\", \"None\"]\n"
      ],
      "metadata": {
        "id": "pacJiUuMWFun",
        "cellView": "form"
      },
      "execution_count": null,
      "outputs": []
    },
    {
      "cell_type": "code",
      "source": [
        "# @title Metadata Query\n",
        "\n",
        "# @markdown Keywords (separate with commas):\n",
        "keywords = '' # @param {type:\"string\"}\n",
        "kw_operator = 'Any' # @param [\"All\", \"Any\", \"None\"]\n",
        "\n",
        "# @markdown MeSH Terms (separate with commas):\n",
        "mesh_terms = '' # @param {type:\"string\"}\n",
        "mesh_operator = 'Any' # @param [\"All\", \"Any\", \"None\"]"
      ],
      "metadata": {
        "cellView": "form",
        "id": "Y01OBq7gVfDu"
      },
      "execution_count": null,
      "outputs": []
    },
    {
      "cell_type": "code",
      "source": [
        "# @title Image Tags\n",
        "\n",
        "# @markdown Image Type:\n",
        "image_type = 'Any' # @param [\"Any\", 'mri', 'ct', 'ultrasound', 'echocardiogram', 'x_ray', 'cta', 'pet', 'ekg', 'angiography', 'h&e', 'methenamine_silver', 'immunofluorescence', 'immunoreactivity', 'immunostaining', 'ihc', 'gastroscopy', 'mra', 'colonoscopy', 'dsa', 'endoscopy', 'eeg', 'mammography', 'scintigraphy', 'fundus_photograph', 'oct', 'cystoscopy', 'mrcp', 'broncoscopy', 'opg', 'venogram', 'egd', 'emg', 'myelogram', 'autofluorescence', 'laryngoscopy', 'arthroscopy', 'ercp', 'spect', 'tractography', 'congo_red', 'ziehl_neelsen', 'masson_trichrome', 'culture', 'giemsa', 'acid_fast', 'pas', 'ki67', 'fish', 'papanicolaou', 'nuclear_staining', 'gram', 'red_stain', 'van_gieson', 'cytoplasmatic_staining', 'alcian_blue', 'green_birefringence', 'blue_stain', 'methylene_blue', 'cotton_blue', 'ck_5/6']\n",
        "\n",
        "# @markdown Anatomical Terms:\n",
        "abdomen = False # @param {type:\"boolean\"}\n",
        "bone = False # @param {type:\"boolean\"}\n",
        "bowel = False # @param {type:\"boolean\"}\n",
        "brain = False # @param {type:\"boolean\"}\n",
        "breast = False # @param {type:\"boolean\"}\n",
        "chest = False # @param {type:\"boolean\"}\n",
        "colorectal = False # @param {type:\"boolean\"}\n",
        "esophagous = False # @param {type:\"boolean\"}\n",
        "eye = False # @param {type:\"boolean\"}\n",
        "gi = False # @param {type:\"boolean\"}\n",
        "head = False # @param {type:\"boolean\"}\n",
        "heart = False # @param {type:\"boolean\"}\n",
        "kidney = False # @param {type:\"boolean\"}\n",
        "liver = False # @param {type:\"boolean\"}\n",
        "lung = False # @param {type:\"boolean\"}\n",
        "lymph_node = False # @param {type:\"boolean\"}\n",
        "mediastinum = False # @param {type:\"boolean\"}\n",
        "mouth = False # @param {type:\"boolean\"}\n",
        "ovary = False # @param {type:\"boolean\"}\n",
        "pancreas = False # @param {type:\"boolean\"}\n",
        "pelvis = False # @param {type:\"boolean\"}\n",
        "peritoneum = False # @param {type:\"boolean\"}\n",
        "retroperitoneum = False # @param {type:\"boolean\"}\n",
        "skin = False # @param {type:\"boolean\"}\n",
        "skull = False # @param {type:\"boolean\"}\n",
        "spine = False # @param {type:\"boolean\"}\n",
        "stomach = False # @param {type:\"boolean\"}\n",
        "uterus = False # @param {type:\"boolean\"}"
      ],
      "metadata": {
        "cellView": "form",
        "id": "B9PB6EnyFqCQ"
      },
      "execution_count": null,
      "outputs": []
    },
    {
      "cell_type": "markdown",
      "source": [
        "## Step 3: Click Runtime > Run all in the colab toolbar. Do not modify any cell."
      ],
      "metadata": {
        "id": "1v7_LqGHaT_9"
      }
    },
    {
      "cell_type": "markdown",
      "source": [
        "### The dataset will be created & downloaded in around 10 mins. If you get an error, rerun all the cells."
      ],
      "metadata": {
        "id": "0pS1aqV5lhSY"
      }
    },
    {
      "cell_type": "code",
      "source": [
        "from datetime import datetime\n",
        "import shutil\n",
        "import os\n",
        "from google.colab import files"
      ],
      "metadata": {
        "id": "74izVxwWLcaS"
      },
      "execution_count": null,
      "outputs": []
    },
    {
      "cell_type": "code",
      "execution_count": null,
      "metadata": {
        "colab": {
          "base_uri": "https://localhost:8080/"
        },
        "id": "-zv0n3ycP_R7",
        "outputId": "4f098a8d-bf01-4ea4-bc2b-a0b36882c671"
      },
      "outputs": [
        {
          "output_type": "stream",
          "name": "stdout",
          "text": [
            "Cloning into 'MultiCaRe_Dataset'...\n",
            "remote: Enumerating objects: 129, done.\u001b[K\n",
            "remote: Counting objects: 100% (42/42), done.\u001b[K\n",
            "remote: Compressing objects: 100% (32/32), done.\u001b[K\n",
            "remote: Total 129 (delta 25), reused 9 (delta 9), pack-reused 87\u001b[K\n",
            "Receiving objects: 100% (129/129), 1.35 MiB | 4.20 MiB/s, done.\n",
            "Resolving deltas: 100% (65/65), done.\n"
          ]
        }
      ],
      "source": [
        "!git clone https://github.com/mauro-nievoff/MultiCaRe_Dataset\n",
        "\n",
        "from MultiCaRe_Dataset.multicare import MedicalDatasetCreator"
      ]
    },
    {
      "cell_type": "code",
      "source": [
        "mdc = MedicalDatasetCreator(directory = 'medical_datasets')"
      ],
      "metadata": {
        "colab": {
          "base_uri": "https://localhost:8080/"
        },
        "id": "_Y1j3_axUaTn",
        "outputId": "c6f1e22b-b9a2-48e8-ab1d-e21971fa764a"
      },
      "execution_count": null,
      "outputs": [
        {
          "output_type": "stream",
          "name": "stdout",
          "text": [
            "Downloading the MultiCaRe Dataset from Zenodo. This may take 5 to 10 minutes.\n",
            "Importing and pre-processing the main files.\n",
            "Done!\n"
          ]
        }
      ]
    },
    {
      "cell_type": "code",
      "source": [
        "filters = []\n",
        "\n",
        "if min_age != 0:\n",
        "  filters.append({'field': 'min_age', 'string_list': [str(min_age)]})\n",
        "\n",
        "if max_age != 100:\n",
        "  filters.append({'field': 'max_age', 'string_list': [str(max_age)]})\n",
        "\n",
        "gender_list = []\n",
        "if female:\n",
        "  gender_list.append('Female')\n",
        "if male:\n",
        "  gender_list.append('Male')\n",
        "if transgender:\n",
        "  gender_list.append('Transgender')\n",
        "\n",
        "if gender_list:\n",
        "  filters.append({'field': 'gender', 'string_list': gender_list})\n",
        "\n",
        "if min_year != 1990:\n",
        "  filters.append({'field': 'min_year', 'string_list': [str(min_year)]})\n",
        "\n",
        "if max_year != 2023:\n",
        "  filters.append({'field': 'max_year', 'string_list': [str(max_year)]})\n",
        "\n",
        "if license == 'Commercial Use Only':\n",
        "  filters.append({'field': 'license', 'string_list':  ['CC0', 'CC BY', 'CC BY-SA', 'CC BY-ND']})\n",
        "\n",
        "if case_words:\n",
        "  case_word_list = case_words.split(',')\n",
        "  case_word_list = [string.lower().strip() for string in case_word_list]\n",
        "  filters.append({'field': 'case_strings', 'string_list': case_word_list, 'operator': case_operator.lower()})\n",
        "\n",
        "if caption_words:\n",
        "  caption_word_list = caption_words.split(',')\n",
        "  caption_word_list = [string.lower().strip() for string in caption_word_list]\n",
        "  filters.append({'field': 'caption', 'string_list': caption_word_list, 'operator': caption_operator.lower()})\n",
        "\n",
        "if keywords:\n",
        "  keyword_list = keywords.split(',')\n",
        "  keyword_list = [string.lower().strip() for string in keyword_list]\n",
        "  filters.append({'field': 'keywords', 'string_list': keyword_list, 'operator': kw_operator.lower(), 'match_type': 'partial_match'})\n",
        "\n",
        "if mesh_terms:\n",
        "  mesh_term_list = mesh_terms.split(',')\n",
        "  mesh_term_list = [string.lower().strip() for string in mesh_term_list]\n",
        "  filters.append({'field': 'mesh_terms', 'string_list': mesh_term_list, 'operator': mesh_operator.lower(), 'match_type': 'partial_match'})\n",
        "\n",
        "if image_type != 'Any':\n",
        "  filters.append({'field': 'normalized_extractions', 'string_list': [image_type]})\n",
        "\n",
        "normalized_extractions = []\n",
        "\n",
        "if abdomen:\n",
        "  normalized_extractions.append('abdomen')\n",
        "\n",
        "if bone:\n",
        "  normalized_extractions.append('bone')\n",
        "\n",
        "if bowel:\n",
        "  normalized_extractions.append('bowel')\n",
        "\n",
        "if brain:\n",
        "  normalized_extractions.append('brain')\n",
        "\n",
        "if breast:\n",
        "  normalized_extractions.append('breast')\n",
        "\n",
        "if chest:\n",
        "  normalized_extractions.append('chest')\n",
        "\n",
        "if colorectal:\n",
        "  normalized_extractions.append('colorectal')\n",
        "\n",
        "if esophagous:\n",
        "  normalized_extractions.append('esophagous')\n",
        "\n",
        "if eye:\n",
        "  normalized_extractions.append('eye')\n",
        "\n",
        "if gi:\n",
        "  normalized_extractions.append('gi')\n",
        "\n",
        "if head:\n",
        "  normalized_extractions.append('head')\n",
        "\n",
        "if heart:\n",
        "  normalized_extractions.append('heart')\n",
        "\n",
        "if kidney:\n",
        "  normalized_extractions.append('kidney')\n",
        "\n",
        "if liver:\n",
        "  normalized_extractions.append('liver')\n",
        "\n",
        "if lung:\n",
        "  normalized_extractions.append('lung')\n",
        "\n",
        "if lymph_node:\n",
        "  normalized_extractions.append('lymph_node')\n",
        "\n",
        "if mediastinum:\n",
        "  normalized_extractions.append('mediastinum')\n",
        "\n",
        "if mouth:\n",
        "  normalized_extractions.append('mouth')\n",
        "\n",
        "if ovary:\n",
        "  normalized_extractions.append('ovary')\n",
        "\n",
        "if pancreas:\n",
        "  normalized_extractions.append('pancreas')\n",
        "\n",
        "if pelvis:\n",
        "  normalized_extractions.append('pelvis')\n",
        "\n",
        "if peritoneum:\n",
        "  normalized_extractions.append('peritoneum')\n",
        "\n",
        "if retroperitoneum:\n",
        "  normalized_extractions.append('retroperitoneum')\n",
        "\n",
        "if skin:\n",
        "  normalized_extractions.append('skin')\n",
        "\n",
        "if skull:\n",
        "  normalized_extractions.append('skull')\n",
        "\n",
        "if spine:\n",
        "  normalized_extractions.append('spine')\n",
        "\n",
        "if stomach:\n",
        "  normalized_extractions.append('stomach')\n",
        "\n",
        "if uterus:\n",
        "  normalized_extractions.append('uterus')\n",
        "\n",
        "if normalized_extractions:\n",
        "  filters.append({'field': 'normalized_extractions', 'string_list': normalized_extractions, 'operator': 'any'})\n"
      ],
      "metadata": {
        "id": "45vOCwC5lWtc"
      },
      "execution_count": null,
      "outputs": []
    },
    {
      "cell_type": "code",
      "source": [
        "date_string = datetime.now().strftime('%Y%m%d_%H%M%S')"
      ],
      "metadata": {
        "id": "mRBbPQjPK7Mp"
      },
      "execution_count": null,
      "outputs": []
    },
    {
      "cell_type": "code",
      "source": [
        "dataset_name = f\"case_series_dataset_{date_string}\""
      ],
      "metadata": {
        "id": "7DefeUsrUG2e"
      },
      "execution_count": null,
      "outputs": []
    },
    {
      "cell_type": "code",
      "source": [
        "mdc.create_dataset(dataset_name = dataset_name, filter_list = filters, dataset_type = 'case_series')"
      ],
      "metadata": {
        "colab": {
          "base_uri": "https://localhost:8080/"
        },
        "id": "Ff5rke1iJuei",
        "outputId": "bbcb8621-5ae2-4e71-ddb2-fad250a153da"
      },
      "execution_count": null,
      "outputs": [
        {
          "output_type": "stream",
          "name": "stdout",
          "text": [
            "The case_series_dataset_20231216_212513 was successfully created!\n"
          ]
        }
      ]
    },
    {
      "cell_type": "code",
      "source": [
        "shutil.make_archive(dataset_name, 'zip', f'/content/medical_datasets/{dataset_name}')"
      ],
      "metadata": {
        "colab": {
          "base_uri": "https://localhost:8080/",
          "height": 36
        },
        "id": "PjVzT41QiQx_",
        "outputId": "36a2bec9-6a78-4200-a961-74c3b6dc4599"
      },
      "execution_count": null,
      "outputs": [
        {
          "output_type": "execute_result",
          "data": {
            "text/plain": [
              "'/content/case_series_dataset_20231216_212513.zip'"
            ],
            "application/vnd.google.colaboratory.intrinsic+json": {
              "type": "string"
            }
          },
          "metadata": {},
          "execution_count": 17
        }
      ]
    },
    {
      "cell_type": "code",
      "source": [
        "files.download('/content/' + dataset_name + '.zip')"
      ],
      "metadata": {
        "colab": {
          "base_uri": "https://localhost:8080/",
          "height": 17
        },
        "id": "FX4x04eNipdd",
        "outputId": "d686efc4-9f09-4d6e-ae11-08fd90dd20d5"
      },
      "execution_count": null,
      "outputs": [
        {
          "output_type": "display_data",
          "data": {
            "text/plain": [
              "<IPython.core.display.Javascript object>"
            ],
            "application/javascript": [
              "\n",
              "    async function download(id, filename, size) {\n",
              "      if (!google.colab.kernel.accessAllowed) {\n",
              "        return;\n",
              "      }\n",
              "      const div = document.createElement('div');\n",
              "      const label = document.createElement('label');\n",
              "      label.textContent = `Downloading \"${filename}\": `;\n",
              "      div.appendChild(label);\n",
              "      const progress = document.createElement('progress');\n",
              "      progress.max = size;\n",
              "      div.appendChild(progress);\n",
              "      document.body.appendChild(div);\n",
              "\n",
              "      const buffers = [];\n",
              "      let downloaded = 0;\n",
              "\n",
              "      const channel = await google.colab.kernel.comms.open(id);\n",
              "      // Send a message to notify the kernel that we're ready.\n",
              "      channel.send({})\n",
              "\n",
              "      for await (const message of channel.messages) {\n",
              "        // Send a message to notify the kernel that we're ready.\n",
              "        channel.send({})\n",
              "        if (message.buffers) {\n",
              "          for (const buffer of message.buffers) {\n",
              "            buffers.push(buffer);\n",
              "            downloaded += buffer.byteLength;\n",
              "            progress.value = downloaded;\n",
              "          }\n",
              "        }\n",
              "      }\n",
              "      const blob = new Blob(buffers, {type: 'application/binary'});\n",
              "      const a = document.createElement('a');\n",
              "      a.href = window.URL.createObjectURL(blob);\n",
              "      a.download = filename;\n",
              "      div.appendChild(a);\n",
              "      a.click();\n",
              "      div.remove();\n",
              "    }\n",
              "  "
            ]
          },
          "metadata": {}
        },
        {
          "output_type": "display_data",
          "data": {
            "text/plain": [
              "<IPython.core.display.Javascript object>"
            ],
            "application/javascript": [
              "download(\"download_dde721cd-4649-4f9e-8b93-1bf4e400d228\", \"case_series_dataset_20231216_212513.zip\", 32685633)"
            ]
          },
          "metadata": {}
        }
      ]
    },
    {
      "cell_type": "markdown",
      "source": [
        "## And that's it! Enjoy your new dataset!"
      ],
      "metadata": {
        "id": "XxSJ-JD0mtZZ"
      }
    }
  ]
}