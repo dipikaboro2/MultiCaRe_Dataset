{
  "cells": [
    {
      "cell_type": "markdown",
      "metadata": {
        "id": "view-in-github",
        "colab_type": "text"
      },
      "source": [
        "<a href=\"https://colab.research.google.com/github/mauro-nievoff/MultiCaRe_Dataset/blob/main/1_How_to_Query_Case_Reports_from_PubMed_using_BioPython.ipynb\" target=\"_parent\"><img src=\"https://colab.research.google.com/assets/colab-badge.svg\" alt=\"Open In Colab\"/></a>"
      ]
    },
    {
      "cell_type": "markdown",
      "metadata": {
        "id": "JrbXhQBvXe6Y"
      },
      "source": [
        "# How to Query Case Reports from PubMed using Biopython (Bio.Entrez)"
      ]
    },
    {
      "cell_type": "markdown",
      "source": [
        "When it comes to biomedical literature, [PubMed](https://pubmed.ncbi.nlm.nih.gov/) is the most comprehensive database, but querying data from it can sometimes be a complex task. In this notebook we will delve into the use of [Biopython](https://biopython.org/), a versatile bioinformatic toolkit to search and retrieve relevant open-access articles from PubMed.\n",
        "\n",
        "We will discuss:\n",
        "- How to create a search string\n",
        "- Retrieving article IDs\n",
        "- Tips to run a large query"
      ],
      "metadata": {
        "id": "4waj2Az5yHlf"
      }
    },
    {
      "cell_type": "markdown",
      "source": [
        "## 📓 General Concepts about PubMed Searches"
      ],
      "metadata": {
        "id": "G0XENQQK31Rk"
      }
    },
    {
      "cell_type": "markdown",
      "source": [
        "Generally speaking, a PubMed search should be as specific and sensitive as possible. This means that it should return as many relevant articles while minimizing the inclusion of irrelevant ones.\n",
        "\n",
        "Let's see an example. If we wanted to get all the case reports published in 2022 related to hypertension, we would write something like this:\n",
        "\n",
        "```('high blood pressure'[Title/Abstract] OR 'Hyptertension'[Mesh]) AND case reports[Publication Type] AND 2022[Date - Publication]```\n",
        "\n",
        "This search string includes:\n",
        "- pertinent strings (using quotation marks if the match should be exact), such as `high blood pressure` or `2022`\n",
        "- the field in which they should be searched (between square brackets), such as `[Mesh]` or `[Publication Type]`\n",
        "- boolean operators (using brackets as necessary), such as `AND` or `OR`\n",
        "\n",
        "In order to get the most appropriate string for a specific use case, an iterative process should be followed: first running a query, then analyzing the results and finally modifying the search string if necessary. This is the kind of questions that should be kept in mind while refining the search:\n",
        "- Is it necessary to add a new filter?\n",
        "- Is there any other relevant term that should be included in the string?\n",
        "- Is there any specific term associated with irrelevant articles that should be used together with the boolean operator `NOT`?"
      ],
      "metadata": {
        "id": "e9QmP9dpeeP1"
      }
    },
    {
      "cell_type": "markdown",
      "source": [
        "## 🔍 Creating a Search String for Case Report Articles"
      ],
      "metadata": {
        "id": "mUyKucBL34PU"
      }
    },
    {
      "cell_type": "markdown",
      "source": [
        "The create_search_string() function is used to create a search string to retrieve as many relevant case reports as possible given a specific clinical use case (e.g. a specific disease, symptom or therapy). When no use case is provided, the generic string 'case' is used, in order to get any case report."
      ],
      "metadata": {
        "id": "n-m6zbgz4HkK"
      }
    },
    {
      "cell_type": "code",
      "source": [
        "def create_search_string(clinical_usecase = ''):\n",
        "\n",
        "  if clinical_usecase:\n",
        "    search = clinical_usecase\n",
        "  else:\n",
        "    search = 'case'\n",
        "\n",
        "  cr_filter_search_string = f\"({search}[All Fields] AND case reports[Publication Type] NOT animal[filter])\"\n",
        "\n",
        "  case_synonyms = ['case study', 'case studies', 'case series', 'case report', 'case reports', 'clinical case', 'clinical cases', 'case presentation', 'case presentations']\n",
        "  case_search_string = '('\n",
        "  for idx, synonym in enumerate(case_synonyms):\n",
        "    case_search_string += synonym + '[Title/Abstract]'\n",
        "    if idx != len(case_synonyms) -1:\n",
        "      case_search_string += ' OR '\n",
        "    else:\n",
        "      case_search_string += ')'\n",
        "\n",
        "  cr_term_search_string = f\"(({search}[All Fields]) AND {case_search_string} NOT case reports[Publication Type] NOT animal[filter])\" # Animal case reports are excluded.\n",
        "\n",
        "  search_string = f\"({cr_filter_search_string} OR {cr_term_search_string}) AND ffrft[Filter]\" # ffrft is used to retrieve only full free-text articles.\n",
        "\n",
        "  return search_string"
      ],
      "metadata": {
        "id": "4KGJWM7eVqmM"
      },
      "execution_count": null,
      "outputs": []
    },
    {
      "cell_type": "code",
      "source": [
        "search_string = create_search_string()"
      ],
      "metadata": {
        "id": "Vl96_LrwVqel"
      },
      "execution_count": null,
      "outputs": []
    },
    {
      "cell_type": "code",
      "source": [
        "search_string"
      ],
      "metadata": {
        "colab": {
          "base_uri": "https://localhost:8080/",
          "height": 70
        },
        "id": "DQUwaRNxYKyQ",
        "outputId": "09827628-9544-4160-dcd0-3db678f79b34"
      },
      "execution_count": null,
      "outputs": [
        {
          "output_type": "execute_result",
          "data": {
            "text/plain": [
              "'((case[All Fields] AND case reports[Publication Type] NOT animal[filter]) OR ((case[All Fields]) AND (case study[Title/Abstract] OR case studies[Title/Abstract] OR case series[Title/Abstract] OR case report[Title/Abstract] OR case reports[Title/Abstract] OR clinical case[Title/Abstract] OR clinical cases[Title/Abstract] OR case presentation[Title/Abstract] OR case presentations[Title/Abstract]) NOT case reports[Publication Type] NOT animal[filter])) AND ffrft[Filter]'"
            ],
            "application/vnd.google.colaboratory.intrinsic+json": {
              "type": "string"
            }
          },
          "metadata": {},
          "execution_count": 3
        }
      ]
    },
    {
      "cell_type": "markdown",
      "source": [
        "## 💻 Getting Article IDs with Biopython"
      ],
      "metadata": {
        "id": "qnO0t7FkYLJC"
      }
    },
    {
      "cell_type": "markdown",
      "source": [
        "Now that we have our search string, we will get all the relevant PubMed article IDs (PMIDs) using Biopython. For that, we need to install the library and import Entrez."
      ],
      "metadata": {
        "id": "UK_kHj_j6A_G"
      }
    },
    {
      "cell_type": "code",
      "source": [
        "%%capture\n",
        "!pip install Bio"
      ],
      "metadata": {
        "id": "OVB6fN6u5TIh"
      },
      "execution_count": null,
      "outputs": []
    },
    {
      "cell_type": "code",
      "source": [
        "from Bio import Entrez"
      ],
      "metadata": {
        "id": "mzEBbopa6ZVZ"
      },
      "execution_count": null,
      "outputs": []
    },
    {
      "cell_type": "markdown",
      "source": [
        "In order to use Entrez, the email address from an NCBI account should be set, along with an API key (available at https://www.ncbi.nlm.nih.gov/account/settings/)."
      ],
      "metadata": {
        "id": "9sSExeYB6b1a"
      }
    },
    {
      "cell_type": "code",
      "source": [
        "Entrez.email = \"your@email.com\"\n",
        "Entrez.api_key = \"your_api_key\""
      ],
      "metadata": {
        "id": "tv5cwO6P48vf"
      },
      "execution_count": null,
      "outputs": []
    },
    {
      "cell_type": "markdown",
      "source": [
        "Once everything is set up, the code below can be run to get the list of PMIDs given a search string."
      ],
      "metadata": {
        "id": "miJ3bbx07-nu"
      }
    },
    {
      "cell_type": "code",
      "source": [
        "handle = Entrez.esearch(db=\"pubmed\", term=search_string, retmode=\"xml\", retmax= 10000)\n",
        "record = Entrez.read(handle)\n",
        "pmid_list = record[\"IdList\"]"
      ],
      "metadata": {
        "id": "ESIdBdC449EM"
      },
      "execution_count": null,
      "outputs": []
    },
    {
      "cell_type": "code",
      "source": [
        "print(f\"A total amount of {len(pmid_list)} were retrieved.\")"
      ],
      "metadata": {
        "colab": {
          "base_uri": "https://localhost:8080/"
        },
        "id": "LVaVGuQa8Zm_",
        "outputId": "d198ae8d-d8c2-48e3-a617-09dd5ced367f"
      },
      "execution_count": null,
      "outputs": [
        {
          "output_type": "stream",
          "name": "stdout",
          "text": [
            "A total amount of 9999 were retrieved.\n"
          ]
        }
      ]
    },
    {
      "cell_type": "markdown",
      "source": [
        "PMIDs can be easily mapped to PubMed Central IDs (PMCIDs) with the function below."
      ],
      "metadata": {
        "id": "w3PRQgk7KxCe"
      }
    },
    {
      "cell_type": "code",
      "source": [
        "def get_pmcid(pmid):\n",
        "  pmid_handle = Entrez.efetch(db=\"pubmed\", id=pmid, rettype=\"xml\")\n",
        "  pmid_record = Entrez.read(pmid_handle)\n",
        "  article_ids = pmid_record['PubmedArticle'][0]['PubmedData']['ArticleIdList']\n",
        "  for e in article_ids:\n",
        "    if e.attributes['IdType'] == 'pmc':\n",
        "      pmcid = str(e)\n",
        "      break\n",
        "    else:\n",
        "      pmcid = 'not_found'\n",
        "  return pmcid"
      ],
      "metadata": {
        "id": "G4pj4muNKtrV"
      },
      "execution_count": null,
      "outputs": []
    },
    {
      "cell_type": "code",
      "source": [
        "get_pmcid(pmid = '36709280')"
      ],
      "metadata": {
        "colab": {
          "base_uri": "https://localhost:8080/",
          "height": 35
        },
        "id": "eQ9I5pGJKt7a",
        "outputId": "cb32e92a-1c23-4c5e-b322-eb10e94e3457"
      },
      "execution_count": null,
      "outputs": [
        {
          "output_type": "execute_result",
          "data": {
            "text/plain": [
              "'PMC9884407'"
            ],
            "application/vnd.google.colaboratory.intrinsic+json": {
              "type": "string"
            }
          },
          "metadata": {},
          "execution_count": 52
        }
      ]
    },
    {
      "cell_type": "markdown",
      "source": [
        "## ✅ How to Run a Large Query"
      ],
      "metadata": {
        "id": "gY-kTnEw8s7g"
      }
    },
    {
      "cell_type": "markdown",
      "source": [
        "Entrez will return a maximum of 10,000 results per query. Usually this amount should be ok, but if you want to get more than that, one possible workaround is to split the time period of your search into multiple periods and run different queries.\n",
        "\n",
        "The function get_pmids() returns all the article ids for a certain query between the start and end years that are specified (by default, the period 2018-2022 is used)."
      ],
      "metadata": {
        "id": "KMPIkdbT8Rf3"
      }
    },
    {
      "cell_type": "code",
      "source": [
        "def get_pmids(search_string, start_year = 2018, end_year = 2022):\n",
        "\n",
        "  pmid_list = []\n",
        "\n",
        "  for year in range(int(start_year), int(end_year)+1):\n",
        "    date_string = str(year)\n",
        "    query = search_string + ' AND ' + date_string + '[Date - Publication]'\n",
        "    handle = Entrez.esearch(db=\"pubmed\", term=query, retmode=\"xml\", retmax= 10000)\n",
        "    record = Entrez.read(handle)\n",
        "    pmid_list += record[\"IdList\"]\n",
        "\n",
        "  pmid_list = list(set(pmid_list))\n",
        "  return pmid_list"
      ],
      "metadata": {
        "id": "KK3miPUc8QFC"
      },
      "execution_count": null,
      "outputs": []
    },
    {
      "cell_type": "code",
      "source": [
        "full_pmid_list = get_pmids(search_string)"
      ],
      "metadata": {
        "id": "iL__PL_UYMRR"
      },
      "execution_count": null,
      "outputs": []
    },
    {
      "cell_type": "code",
      "source": [
        "print(f\"A total amount of {len(full_pmid_list)} were retrieved.\")"
      ],
      "metadata": {
        "colab": {
          "base_uri": "https://localhost:8080/"
        },
        "id": "LoKaxkQVZE9J",
        "outputId": "89d9eebd-8503-4aea-a2b4-a11679c8fda4"
      },
      "execution_count": null,
      "outputs": [
        {
          "output_type": "stream",
          "name": "stdout",
          "text": [
            "A total amount of 49734 were retrieved.\n"
          ]
        }
      ]
    },
    {
      "cell_type": "markdown",
      "source": [
        "If we wanted to get even more PMIDs, then more granular temporal filters could be used (by month or by day)."
      ],
      "metadata": {
        "id": "HHzSyVbmGewO"
      }
    }
  ],
  "metadata": {
    "colab": {
      "provenance": [],
      "authorship_tag": "ABX9TyOJADYGurY0XfGXn5ebFNef",
      "include_colab_link": true
    },
    "kernelspec": {
      "display_name": "Python 3",
      "name": "python3"
    },
    "language_info": {
      "name": "python"
    }
  },
  "nbformat": 4,
  "nbformat_minor": 0
}
